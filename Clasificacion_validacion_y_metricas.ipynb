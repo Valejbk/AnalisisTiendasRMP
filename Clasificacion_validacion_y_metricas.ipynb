{
  "nbformat": 4,
  "nbformat_minor": 0,
  "metadata": {
    "colab": {
      "provenance": [],
      "include_colab_link": true
    },
    "kernelspec": {
      "name": "python3",
      "display_name": "Python 3"
    },
    "language_info": {
      "name": "python"
    }
  },
  "cells": [
    {
      "cell_type": "markdown",
      "metadata": {
        "id": "view-in-github",
        "colab_type": "text"
      },
      "source": [
        "<a href=\"https://colab.research.google.com/github/Valejbk/AnalisisTiendasRMP/blob/main/Clasificacion_validacion_y_metricas.ipynb\" target=\"_parent\"><img src=\"https://colab.research.google.com/assets/colab-badge.svg\" alt=\"Open In Colab\"/></a>"
      ]
    },
    {
      "cell_type": "markdown",
      "source": [
        "# <font color='dark'>**Clasificación: Validación de modelos y métricas de evaluación**</h1>"
      ],
      "metadata": {
        "id": "MCqTDybk4ShK"
      }
    },
    {
      "cell_type": "markdown",
      "source": [
        "### Proyecto\n",
        "\n",
        "Una empresa de financiamiento de automóviles está atravesando una situación complicada, con una alta demanda para una flota reducida de vehículos y un alto número de morosos, lo que está generando grandes pérdidas para la empresa.\n",
        "\n",
        "Nosotros fuimos contratados para buscar mejoras en la identificación de morosos. El análisis de los clientes actualmente se realiza de forma manual, cliente por cliente, lo que consume mucho tiempo y, aun así, la detección de morosos es muy imprecisa.\n",
        "\n",
        "Nuestra tarea es utilizar los datos proporcionados por la empresa para **clasificar** a los clientes en cumplidores y morosos."
      ],
      "metadata": {
        "id": "WscU3KG7a9No"
      }
    },
    {
      "cell_type": "markdown",
      "source": [
        "## <font color='dark'>Clasificando los datos</h1>"
      ],
      "metadata": {
        "id": "WgS8iF51Csrn"
      }
    },
    {
      "cell_type": "markdown",
      "source": [
        "### Creando un modelo inicial"
      ],
      "metadata": {
        "id": "6lExmBuKn-xe"
      }
    },
    {
      "cell_type": "code",
      "source": [
        "\n",
        "\n",
        "!wget https://github.com/alura-es-cursos/2162-clasificacion-validacion-de-modelos-y-metricas/raw/refs/heads/main/prestacar.csv\n"
      ],
      "metadata": {
        "id": "ANJDC3LqP43q",
        "outputId": "45fd3690-69fb-4133-c374-84349b9b77e0",
        "colab": {
          "base_uri": "https://localhost:8080/"
        }
      },
      "execution_count": 1,
      "outputs": [
        {
          "output_type": "stream",
          "name": "stdout",
          "text": [
            "--2025-08-17 20:43:31--  https://github.com/alura-es-cursos/2162-clasificacion-validacion-de-modelos-y-metricas/raw/refs/heads/main/prestacar.csv\n",
            "Resolving github.com (github.com)... 140.82.113.3\n",
            "Connecting to github.com (github.com)|140.82.113.3|:443... connected.\n",
            "HTTP request sent, awaiting response... 302 Found\n",
            "Location: https://raw.githubusercontent.com/alura-es-cursos/2162-clasificacion-validacion-de-modelos-y-metricas/refs/heads/main/prestacar.csv [following]\n",
            "--2025-08-17 20:43:32--  https://raw.githubusercontent.com/alura-es-cursos/2162-clasificacion-validacion-de-modelos-y-metricas/refs/heads/main/prestacar.csv\n",
            "Resolving raw.githubusercontent.com (raw.githubusercontent.com)... 185.199.111.133, 185.199.109.133, 185.199.110.133, ...\n",
            "Connecting to raw.githubusercontent.com (raw.githubusercontent.com)|185.199.111.133|:443... connected.\n",
            "HTTP request sent, awaiting response... 200 OK\n",
            "Length: 5767082 (5.5M) [text/plain]\n",
            "Saving to: ‘prestacar.csv’\n",
            "\n",
            "prestacar.csv       100%[===================>]   5.50M  --.-KB/s    in 0.06s   \n",
            "\n",
            "2025-08-17 20:43:32 (87.2 MB/s) - ‘prestacar.csv’ saved [5767082/5767082]\n",
            "\n"
          ]
        }
      ]
    },
    {
      "cell_type": "code",
      "source": [
        "\n",
        "\n",
        "!wget https://github.com/alura-es-cursos/2162-clasificacion-validacion-de-modelos-y-metricas/raw/refs/heads/main/Clasificacion_validacion_y_metricas.ipynb\n"
      ],
      "metadata": {
        "id": "UPddns6dP4kt",
        "outputId": "36e6454b-b8c5-4ef8-da46-a51b92fbebb0",
        "colab": {
          "base_uri": "https://localhost:8080/"
        }
      },
      "execution_count": 2,
      "outputs": [
        {
          "output_type": "stream",
          "name": "stdout",
          "text": [
            "--2025-08-17 20:43:32--  https://github.com/alura-es-cursos/2162-clasificacion-validacion-de-modelos-y-metricas/raw/refs/heads/main/Clasificacion_validacion_y_metricas.ipynb\n",
            "Resolving github.com (github.com)... 140.82.114.4\n",
            "Connecting to github.com (github.com)|140.82.114.4|:443... connected.\n",
            "HTTP request sent, awaiting response... 302 Found\n",
            "Location: https://raw.githubusercontent.com/alura-es-cursos/2162-clasificacion-validacion-de-modelos-y-metricas/refs/heads/main/Clasificacion_validacion_y_metricas.ipynb [following]\n",
            "--2025-08-17 20:43:33--  https://raw.githubusercontent.com/alura-es-cursos/2162-clasificacion-validacion-de-modelos-y-metricas/refs/heads/main/Clasificacion_validacion_y_metricas.ipynb\n",
            "Resolving raw.githubusercontent.com (raw.githubusercontent.com)... 185.199.111.133, 185.199.110.133, 185.199.108.133, ...\n",
            "Connecting to raw.githubusercontent.com (raw.githubusercontent.com)|185.199.111.133|:443... connected.\n",
            "HTTP request sent, awaiting response... 200 OK\n",
            "Length: 20216 (20K) [text/plain]\n",
            "Saving to: ‘Clasificacion_validacion_y_metricas.ipynb’\n",
            "\n",
            "Clasificacion_valid 100%[===================>]  19.74K  --.-KB/s    in 0s      \n",
            "\n",
            "2025-08-17 20:43:33 (48.7 MB/s) - ‘Clasificacion_validacion_y_metricas.ipynb’ saved [20216/20216]\n",
            "\n"
          ]
        }
      ]
    },
    {
      "cell_type": "code",
      "source": [
        "import pandas as pd\n"
      ],
      "metadata": {
        "id": "UVIX6QLpP4iC"
      },
      "execution_count": 3,
      "outputs": []
    },
    {
      "cell_type": "code",
      "source": [
        "#para leer copiamos la ruta de acceso\n",
        "\n",
        "datos = pd.read_csv('/content/prestacar.csv')\n"
      ],
      "metadata": {
        "id": "qSo7bdm50RcB"
      },
      "execution_count": 4,
      "outputs": []
    },
    {
      "cell_type": "code",
      "source": [
        "#visualizamos todo el conjunto de datos (54.025 filas y 11 columnas)\n",
        "\n",
        "datos\n"
      ],
      "metadata": {
        "id": "XxjrFMMG0Rph",
        "outputId": "438269dc-aaef-47a2-ab9e-8f0fadf6a6f9",
        "colab": {
          "base_uri": "https://localhost:8080/",
          "height": 443
        }
      },
      "execution_count": 5,
      "outputs": [
        {
          "output_type": "execute_result",
          "data": {
            "text/plain": [
              "       ingresos_cliente  anualidad_prestamo  años_casa_propia  telefono_trab  \\\n",
              "0          12600.000000         3569.400000         12.157324              1   \n",
              "1           9000.000000         2722.188351          7.000000              0   \n",
              "2          15750.000000         4477.500000         12.000000              0   \n",
              "3           9000.000000         1309.050000         12.157324              0   \n",
              "4           7650.000000         1125.000000         12.157324              0   \n",
              "...                 ...                 ...               ...            ...   \n",
              "54020      16855.246324          675.000000         12.157324              1   \n",
              "54021      11250.000000          675.000000         14.000000              0   \n",
              "54022      13500.000000          900.000000         64.000000              0   \n",
              "54023      11250.000000         2371.500000         12.157324              0   \n",
              "54024      21060.000000         2459.250000         12.157324              0   \n",
              "\n",
              "       evaluacion_ciudad   score_1   score_2   score_3  score_social  \\\n",
              "0                    2.0  0.057153  0.527227  0.513171      0.117428   \n",
              "1                    2.0  0.657661  0.285898  0.614414      0.222700   \n",
              "2                    2.0  0.501213  0.695423  0.513171      0.117428   \n",
              "3                    3.0  0.501213  0.155973  0.513171      0.117428   \n",
              "4                    2.0  0.294328  0.152076  0.513171      0.117428   \n",
              "...                  ...       ...       ...       ...           ...   \n",
              "54020                2.0  0.501213  0.180635  0.513171      0.082500   \n",
              "54021                3.0  0.409620  0.606002  0.513171      0.117428   \n",
              "54022                2.0  0.162632  0.525412  0.513171      0.117428   \n",
              "54023                3.0  0.501213  0.664027  0.513171      0.117428   \n",
              "54024                2.0  0.339656  0.656468  0.513171      0.117428   \n",
              "\n",
              "       cambio_telefono  moroso  \n",
              "0          2545.000000       0  \n",
              "1           495.000000       0  \n",
              "2          1212.000000       0  \n",
              "3           515.000000       0  \n",
              "4           162.000000       0  \n",
              "...                ...     ...  \n",
              "54020         0.000000       1  \n",
              "54021       466.000000       1  \n",
              "54022       962.106056       1  \n",
              "54023       482.000000       1  \n",
              "54024         0.000000       1  \n",
              "\n",
              "[54025 rows x 11 columns]"
            ],
            "text/html": [
              "\n",
              "  <div id=\"df-46ab2f97-be4e-44c2-ab3a-19a9dd65d811\" class=\"colab-df-container\">\n",
              "    <div>\n",
              "<style scoped>\n",
              "    .dataframe tbody tr th:only-of-type {\n",
              "        vertical-align: middle;\n",
              "    }\n",
              "\n",
              "    .dataframe tbody tr th {\n",
              "        vertical-align: top;\n",
              "    }\n",
              "\n",
              "    .dataframe thead th {\n",
              "        text-align: right;\n",
              "    }\n",
              "</style>\n",
              "<table border=\"1\" class=\"dataframe\">\n",
              "  <thead>\n",
              "    <tr style=\"text-align: right;\">\n",
              "      <th></th>\n",
              "      <th>ingresos_cliente</th>\n",
              "      <th>anualidad_prestamo</th>\n",
              "      <th>años_casa_propia</th>\n",
              "      <th>telefono_trab</th>\n",
              "      <th>evaluacion_ciudad</th>\n",
              "      <th>score_1</th>\n",
              "      <th>score_2</th>\n",
              "      <th>score_3</th>\n",
              "      <th>score_social</th>\n",
              "      <th>cambio_telefono</th>\n",
              "      <th>moroso</th>\n",
              "    </tr>\n",
              "  </thead>\n",
              "  <tbody>\n",
              "    <tr>\n",
              "      <th>0</th>\n",
              "      <td>12600.000000</td>\n",
              "      <td>3569.400000</td>\n",
              "      <td>12.157324</td>\n",
              "      <td>1</td>\n",
              "      <td>2.0</td>\n",
              "      <td>0.057153</td>\n",
              "      <td>0.527227</td>\n",
              "      <td>0.513171</td>\n",
              "      <td>0.117428</td>\n",
              "      <td>2545.000000</td>\n",
              "      <td>0</td>\n",
              "    </tr>\n",
              "    <tr>\n",
              "      <th>1</th>\n",
              "      <td>9000.000000</td>\n",
              "      <td>2722.188351</td>\n",
              "      <td>7.000000</td>\n",
              "      <td>0</td>\n",
              "      <td>2.0</td>\n",
              "      <td>0.657661</td>\n",
              "      <td>0.285898</td>\n",
              "      <td>0.614414</td>\n",
              "      <td>0.222700</td>\n",
              "      <td>495.000000</td>\n",
              "      <td>0</td>\n",
              "    </tr>\n",
              "    <tr>\n",
              "      <th>2</th>\n",
              "      <td>15750.000000</td>\n",
              "      <td>4477.500000</td>\n",
              "      <td>12.000000</td>\n",
              "      <td>0</td>\n",
              "      <td>2.0</td>\n",
              "      <td>0.501213</td>\n",
              "      <td>0.695423</td>\n",
              "      <td>0.513171</td>\n",
              "      <td>0.117428</td>\n",
              "      <td>1212.000000</td>\n",
              "      <td>0</td>\n",
              "    </tr>\n",
              "    <tr>\n",
              "      <th>3</th>\n",
              "      <td>9000.000000</td>\n",
              "      <td>1309.050000</td>\n",
              "      <td>12.157324</td>\n",
              "      <td>0</td>\n",
              "      <td>3.0</td>\n",
              "      <td>0.501213</td>\n",
              "      <td>0.155973</td>\n",
              "      <td>0.513171</td>\n",
              "      <td>0.117428</td>\n",
              "      <td>515.000000</td>\n",
              "      <td>0</td>\n",
              "    </tr>\n",
              "    <tr>\n",
              "      <th>4</th>\n",
              "      <td>7650.000000</td>\n",
              "      <td>1125.000000</td>\n",
              "      <td>12.157324</td>\n",
              "      <td>0</td>\n",
              "      <td>2.0</td>\n",
              "      <td>0.294328</td>\n",
              "      <td>0.152076</td>\n",
              "      <td>0.513171</td>\n",
              "      <td>0.117428</td>\n",
              "      <td>162.000000</td>\n",
              "      <td>0</td>\n",
              "    </tr>\n",
              "    <tr>\n",
              "      <th>...</th>\n",
              "      <td>...</td>\n",
              "      <td>...</td>\n",
              "      <td>...</td>\n",
              "      <td>...</td>\n",
              "      <td>...</td>\n",
              "      <td>...</td>\n",
              "      <td>...</td>\n",
              "      <td>...</td>\n",
              "      <td>...</td>\n",
              "      <td>...</td>\n",
              "      <td>...</td>\n",
              "    </tr>\n",
              "    <tr>\n",
              "      <th>54020</th>\n",
              "      <td>16855.246324</td>\n",
              "      <td>675.000000</td>\n",
              "      <td>12.157324</td>\n",
              "      <td>1</td>\n",
              "      <td>2.0</td>\n",
              "      <td>0.501213</td>\n",
              "      <td>0.180635</td>\n",
              "      <td>0.513171</td>\n",
              "      <td>0.082500</td>\n",
              "      <td>0.000000</td>\n",
              "      <td>1</td>\n",
              "    </tr>\n",
              "    <tr>\n",
              "      <th>54021</th>\n",
              "      <td>11250.000000</td>\n",
              "      <td>675.000000</td>\n",
              "      <td>14.000000</td>\n",
              "      <td>0</td>\n",
              "      <td>3.0</td>\n",
              "      <td>0.409620</td>\n",
              "      <td>0.606002</td>\n",
              "      <td>0.513171</td>\n",
              "      <td>0.117428</td>\n",
              "      <td>466.000000</td>\n",
              "      <td>1</td>\n",
              "    </tr>\n",
              "    <tr>\n",
              "      <th>54022</th>\n",
              "      <td>13500.000000</td>\n",
              "      <td>900.000000</td>\n",
              "      <td>64.000000</td>\n",
              "      <td>0</td>\n",
              "      <td>2.0</td>\n",
              "      <td>0.162632</td>\n",
              "      <td>0.525412</td>\n",
              "      <td>0.513171</td>\n",
              "      <td>0.117428</td>\n",
              "      <td>962.106056</td>\n",
              "      <td>1</td>\n",
              "    </tr>\n",
              "    <tr>\n",
              "      <th>54023</th>\n",
              "      <td>11250.000000</td>\n",
              "      <td>2371.500000</td>\n",
              "      <td>12.157324</td>\n",
              "      <td>0</td>\n",
              "      <td>3.0</td>\n",
              "      <td>0.501213</td>\n",
              "      <td>0.664027</td>\n",
              "      <td>0.513171</td>\n",
              "      <td>0.117428</td>\n",
              "      <td>482.000000</td>\n",
              "      <td>1</td>\n",
              "    </tr>\n",
              "    <tr>\n",
              "      <th>54024</th>\n",
              "      <td>21060.000000</td>\n",
              "      <td>2459.250000</td>\n",
              "      <td>12.157324</td>\n",
              "      <td>0</td>\n",
              "      <td>2.0</td>\n",
              "      <td>0.339656</td>\n",
              "      <td>0.656468</td>\n",
              "      <td>0.513171</td>\n",
              "      <td>0.117428</td>\n",
              "      <td>0.000000</td>\n",
              "      <td>1</td>\n",
              "    </tr>\n",
              "  </tbody>\n",
              "</table>\n",
              "<p>54025 rows × 11 columns</p>\n",
              "</div>\n",
              "    <div class=\"colab-df-buttons\">\n",
              "\n",
              "  <div class=\"colab-df-container\">\n",
              "    <button class=\"colab-df-convert\" onclick=\"convertToInteractive('df-46ab2f97-be4e-44c2-ab3a-19a9dd65d811')\"\n",
              "            title=\"Convert this dataframe to an interactive table.\"\n",
              "            style=\"display:none;\">\n",
              "\n",
              "  <svg xmlns=\"http://www.w3.org/2000/svg\" height=\"24px\" viewBox=\"0 -960 960 960\">\n",
              "    <path d=\"M120-120v-720h720v720H120Zm60-500h600v-160H180v160Zm220 220h160v-160H400v160Zm0 220h160v-160H400v160ZM180-400h160v-160H180v160Zm440 0h160v-160H620v160ZM180-180h160v-160H180v160Zm440 0h160v-160H620v160Z\"/>\n",
              "  </svg>\n",
              "    </button>\n",
              "\n",
              "  <style>\n",
              "    .colab-df-container {\n",
              "      display:flex;\n",
              "      gap: 12px;\n",
              "    }\n",
              "\n",
              "    .colab-df-convert {\n",
              "      background-color: #E8F0FE;\n",
              "      border: none;\n",
              "      border-radius: 50%;\n",
              "      cursor: pointer;\n",
              "      display: none;\n",
              "      fill: #1967D2;\n",
              "      height: 32px;\n",
              "      padding: 0 0 0 0;\n",
              "      width: 32px;\n",
              "    }\n",
              "\n",
              "    .colab-df-convert:hover {\n",
              "      background-color: #E2EBFA;\n",
              "      box-shadow: 0px 1px 2px rgba(60, 64, 67, 0.3), 0px 1px 3px 1px rgba(60, 64, 67, 0.15);\n",
              "      fill: #174EA6;\n",
              "    }\n",
              "\n",
              "    .colab-df-buttons div {\n",
              "      margin-bottom: 4px;\n",
              "    }\n",
              "\n",
              "    [theme=dark] .colab-df-convert {\n",
              "      background-color: #3B4455;\n",
              "      fill: #D2E3FC;\n",
              "    }\n",
              "\n",
              "    [theme=dark] .colab-df-convert:hover {\n",
              "      background-color: #434B5C;\n",
              "      box-shadow: 0px 1px 3px 1px rgba(0, 0, 0, 0.15);\n",
              "      filter: drop-shadow(0px 1px 2px rgba(0, 0, 0, 0.3));\n",
              "      fill: #FFFFFF;\n",
              "    }\n",
              "  </style>\n",
              "\n",
              "    <script>\n",
              "      const buttonEl =\n",
              "        document.querySelector('#df-46ab2f97-be4e-44c2-ab3a-19a9dd65d811 button.colab-df-convert');\n",
              "      buttonEl.style.display =\n",
              "        google.colab.kernel.accessAllowed ? 'block' : 'none';\n",
              "\n",
              "      async function convertToInteractive(key) {\n",
              "        const element = document.querySelector('#df-46ab2f97-be4e-44c2-ab3a-19a9dd65d811');\n",
              "        const dataTable =\n",
              "          await google.colab.kernel.invokeFunction('convertToInteractive',\n",
              "                                                    [key], {});\n",
              "        if (!dataTable) return;\n",
              "\n",
              "        const docLinkHtml = 'Like what you see? Visit the ' +\n",
              "          '<a target=\"_blank\" href=https://colab.research.google.com/notebooks/data_table.ipynb>data table notebook</a>'\n",
              "          + ' to learn more about interactive tables.';\n",
              "        element.innerHTML = '';\n",
              "        dataTable['output_type'] = 'display_data';\n",
              "        await google.colab.output.renderOutput(dataTable, element);\n",
              "        const docLink = document.createElement('div');\n",
              "        docLink.innerHTML = docLinkHtml;\n",
              "        element.appendChild(docLink);\n",
              "      }\n",
              "    </script>\n",
              "  </div>\n",
              "\n",
              "\n",
              "    <div id=\"df-a3a1f254-2929-4952-99b0-dc1d00ebca38\">\n",
              "      <button class=\"colab-df-quickchart\" onclick=\"quickchart('df-a3a1f254-2929-4952-99b0-dc1d00ebca38')\"\n",
              "                title=\"Suggest charts\"\n",
              "                style=\"display:none;\">\n",
              "\n",
              "<svg xmlns=\"http://www.w3.org/2000/svg\" height=\"24px\"viewBox=\"0 0 24 24\"\n",
              "     width=\"24px\">\n",
              "    <g>\n",
              "        <path d=\"M19 3H5c-1.1 0-2 .9-2 2v14c0 1.1.9 2 2 2h14c1.1 0 2-.9 2-2V5c0-1.1-.9-2-2-2zM9 17H7v-7h2v7zm4 0h-2V7h2v10zm4 0h-2v-4h2v4z\"/>\n",
              "    </g>\n",
              "</svg>\n",
              "      </button>\n",
              "\n",
              "<style>\n",
              "  .colab-df-quickchart {\n",
              "      --bg-color: #E8F0FE;\n",
              "      --fill-color: #1967D2;\n",
              "      --hover-bg-color: #E2EBFA;\n",
              "      --hover-fill-color: #174EA6;\n",
              "      --disabled-fill-color: #AAA;\n",
              "      --disabled-bg-color: #DDD;\n",
              "  }\n",
              "\n",
              "  [theme=dark] .colab-df-quickchart {\n",
              "      --bg-color: #3B4455;\n",
              "      --fill-color: #D2E3FC;\n",
              "      --hover-bg-color: #434B5C;\n",
              "      --hover-fill-color: #FFFFFF;\n",
              "      --disabled-bg-color: #3B4455;\n",
              "      --disabled-fill-color: #666;\n",
              "  }\n",
              "\n",
              "  .colab-df-quickchart {\n",
              "    background-color: var(--bg-color);\n",
              "    border: none;\n",
              "    border-radius: 50%;\n",
              "    cursor: pointer;\n",
              "    display: none;\n",
              "    fill: var(--fill-color);\n",
              "    height: 32px;\n",
              "    padding: 0;\n",
              "    width: 32px;\n",
              "  }\n",
              "\n",
              "  .colab-df-quickchart:hover {\n",
              "    background-color: var(--hover-bg-color);\n",
              "    box-shadow: 0 1px 2px rgba(60, 64, 67, 0.3), 0 1px 3px 1px rgba(60, 64, 67, 0.15);\n",
              "    fill: var(--button-hover-fill-color);\n",
              "  }\n",
              "\n",
              "  .colab-df-quickchart-complete:disabled,\n",
              "  .colab-df-quickchart-complete:disabled:hover {\n",
              "    background-color: var(--disabled-bg-color);\n",
              "    fill: var(--disabled-fill-color);\n",
              "    box-shadow: none;\n",
              "  }\n",
              "\n",
              "  .colab-df-spinner {\n",
              "    border: 2px solid var(--fill-color);\n",
              "    border-color: transparent;\n",
              "    border-bottom-color: var(--fill-color);\n",
              "    animation:\n",
              "      spin 1s steps(1) infinite;\n",
              "  }\n",
              "\n",
              "  @keyframes spin {\n",
              "    0% {\n",
              "      border-color: transparent;\n",
              "      border-bottom-color: var(--fill-color);\n",
              "      border-left-color: var(--fill-color);\n",
              "    }\n",
              "    20% {\n",
              "      border-color: transparent;\n",
              "      border-left-color: var(--fill-color);\n",
              "      border-top-color: var(--fill-color);\n",
              "    }\n",
              "    30% {\n",
              "      border-color: transparent;\n",
              "      border-left-color: var(--fill-color);\n",
              "      border-top-color: var(--fill-color);\n",
              "      border-right-color: var(--fill-color);\n",
              "    }\n",
              "    40% {\n",
              "      border-color: transparent;\n",
              "      border-right-color: var(--fill-color);\n",
              "      border-top-color: var(--fill-color);\n",
              "    }\n",
              "    60% {\n",
              "      border-color: transparent;\n",
              "      border-right-color: var(--fill-color);\n",
              "    }\n",
              "    80% {\n",
              "      border-color: transparent;\n",
              "      border-right-color: var(--fill-color);\n",
              "      border-bottom-color: var(--fill-color);\n",
              "    }\n",
              "    90% {\n",
              "      border-color: transparent;\n",
              "      border-bottom-color: var(--fill-color);\n",
              "    }\n",
              "  }\n",
              "</style>\n",
              "\n",
              "      <script>\n",
              "        async function quickchart(key) {\n",
              "          const quickchartButtonEl =\n",
              "            document.querySelector('#' + key + ' button');\n",
              "          quickchartButtonEl.disabled = true;  // To prevent multiple clicks.\n",
              "          quickchartButtonEl.classList.add('colab-df-spinner');\n",
              "          try {\n",
              "            const charts = await google.colab.kernel.invokeFunction(\n",
              "                'suggestCharts', [key], {});\n",
              "          } catch (error) {\n",
              "            console.error('Error during call to suggestCharts:', error);\n",
              "          }\n",
              "          quickchartButtonEl.classList.remove('colab-df-spinner');\n",
              "          quickchartButtonEl.classList.add('colab-df-quickchart-complete');\n",
              "        }\n",
              "        (() => {\n",
              "          let quickchartButtonEl =\n",
              "            document.querySelector('#df-a3a1f254-2929-4952-99b0-dc1d00ebca38 button');\n",
              "          quickchartButtonEl.style.display =\n",
              "            google.colab.kernel.accessAllowed ? 'block' : 'none';\n",
              "        })();\n",
              "      </script>\n",
              "    </div>\n",
              "\n",
              "  <div id=\"id_8b81554e-919f-4c12-b209-8ae1a07fe7a1\">\n",
              "    <style>\n",
              "      .colab-df-generate {\n",
              "        background-color: #E8F0FE;\n",
              "        border: none;\n",
              "        border-radius: 50%;\n",
              "        cursor: pointer;\n",
              "        display: none;\n",
              "        fill: #1967D2;\n",
              "        height: 32px;\n",
              "        padding: 0 0 0 0;\n",
              "        width: 32px;\n",
              "      }\n",
              "\n",
              "      .colab-df-generate:hover {\n",
              "        background-color: #E2EBFA;\n",
              "        box-shadow: 0px 1px 2px rgba(60, 64, 67, 0.3), 0px 1px 3px 1px rgba(60, 64, 67, 0.15);\n",
              "        fill: #174EA6;\n",
              "      }\n",
              "\n",
              "      [theme=dark] .colab-df-generate {\n",
              "        background-color: #3B4455;\n",
              "        fill: #D2E3FC;\n",
              "      }\n",
              "\n",
              "      [theme=dark] .colab-df-generate:hover {\n",
              "        background-color: #434B5C;\n",
              "        box-shadow: 0px 1px 3px 1px rgba(0, 0, 0, 0.15);\n",
              "        filter: drop-shadow(0px 1px 2px rgba(0, 0, 0, 0.3));\n",
              "        fill: #FFFFFF;\n",
              "      }\n",
              "    </style>\n",
              "    <button class=\"colab-df-generate\" onclick=\"generateWithVariable('datos')\"\n",
              "            title=\"Generate code using this dataframe.\"\n",
              "            style=\"display:none;\">\n",
              "\n",
              "  <svg xmlns=\"http://www.w3.org/2000/svg\" height=\"24px\"viewBox=\"0 0 24 24\"\n",
              "       width=\"24px\">\n",
              "    <path d=\"M7,19H8.4L18.45,9,17,7.55,7,17.6ZM5,21V16.75L18.45,3.32a2,2,0,0,1,2.83,0l1.4,1.43a1.91,1.91,0,0,1,.58,1.4,1.91,1.91,0,0,1-.58,1.4L9.25,21ZM18.45,9,17,7.55Zm-12,3A5.31,5.31,0,0,0,4.9,8.1,5.31,5.31,0,0,0,1,6.5,5.31,5.31,0,0,0,4.9,4.9,5.31,5.31,0,0,0,6.5,1,5.31,5.31,0,0,0,8.1,4.9,5.31,5.31,0,0,0,12,6.5,5.46,5.46,0,0,0,6.5,12Z\"/>\n",
              "  </svg>\n",
              "    </button>\n",
              "    <script>\n",
              "      (() => {\n",
              "      const buttonEl =\n",
              "        document.querySelector('#id_8b81554e-919f-4c12-b209-8ae1a07fe7a1 button.colab-df-generate');\n",
              "      buttonEl.style.display =\n",
              "        google.colab.kernel.accessAllowed ? 'block' : 'none';\n",
              "\n",
              "      buttonEl.onclick = () => {\n",
              "        google.colab.notebook.generateWithVariable('datos');\n",
              "      }\n",
              "      })();\n",
              "    </script>\n",
              "  </div>\n",
              "\n",
              "    </div>\n",
              "  </div>\n"
            ],
            "application/vnd.google.colaboratory.intrinsic+json": {
              "type": "dataframe",
              "variable_name": "datos",
              "summary": "{\n  \"name\": \"datos\",\n  \"rows\": 54025,\n  \"fields\": [\n    {\n      \"column\": \"ingresos_cliente\",\n      \"properties\": {\n        \"dtype\": \"number\",\n        \"std\": 9658.762569130264,\n        \"min\": 2700.0,\n        \"max\": 450000.0,\n        \"num_unique_values\": 663,\n        \"samples\": [\n          11018.7,\n          38520.0,\n          17796.6\n        ],\n        \"semantic_type\": \"\",\n        \"description\": \"\"\n      }\n    },\n    {\n      \"column\": \"anualidad_prestamo\",\n      \"properties\": {\n        \"dtype\": \"number\",\n        \"std\": 1305.3647344874787,\n        \"min\": 218.7,\n        \"max\": 22500.0,\n        \"num_unique_values\": 8004,\n        \"samples\": [\n          5339.7,\n          5067.0,\n          5757.3\n        ],\n        \"semantic_type\": \"\",\n        \"description\": \"\"\n      }\n    },\n    {\n      \"column\": \"a\\u00f1os_casa_propia\",\n      \"properties\": {\n        \"dtype\": \"number\",\n        \"std\": 7.452120104984191,\n        \"min\": 0.0,\n        \"max\": 69.0,\n        \"num_unique_values\": 53,\n        \"samples\": [\n          11.0,\n          31.0,\n          32.0\n        ],\n        \"semantic_type\": \"\",\n        \"description\": \"\"\n      }\n    },\n    {\n      \"column\": \"telefono_trab\",\n      \"properties\": {\n        \"dtype\": \"number\",\n        \"std\": 0,\n        \"min\": 0,\n        \"max\": 1,\n        \"num_unique_values\": 2,\n        \"samples\": [\n          0,\n          1\n        ],\n        \"semantic_type\": \"\",\n        \"description\": \"\"\n      }\n    },\n    {\n      \"column\": \"evaluacion_ciudad\",\n      \"properties\": {\n        \"dtype\": \"number\",\n        \"std\": 0.49880682251877845,\n        \"min\": 1.0,\n        \"max\": 3.0,\n        \"num_unique_values\": 4,\n        \"samples\": [\n          3.0,\n          2.030038427084816\n        ],\n        \"semantic_type\": \"\",\n        \"description\": \"\"\n      }\n    },\n    {\n      \"column\": \"score_1\",\n      \"properties\": {\n        \"dtype\": \"number\",\n        \"std\": 0.14238945649917853,\n        \"min\": 0.014568132,\n        \"max\": 0.942680454,\n        \"num_unique_values\": 23062,\n        \"samples\": [\n          0.475611877,\n          0.435226091\n        ],\n        \"semantic_type\": \"\",\n        \"description\": \"\"\n      }\n    },\n    {\n      \"column\": \"score_2\",\n      \"properties\": {\n        \"dtype\": \"number\",\n        \"std\": 0.8759454878096079,\n        \"min\": 5e-06,\n        \"max\": 100.0,\n        \"num_unique_values\": 38047,\n        \"samples\": [\n          0.416306086,\n          0.675062411\n        ],\n        \"semantic_type\": \"\",\n        \"description\": \"\"\n      }\n    },\n    {\n      \"column\": \"score_3\",\n      \"properties\": {\n        \"dtype\": \"number\",\n        \"std\": 0.06272486372343226,\n        \"min\": 0.000527265,\n        \"max\": 0.869210801,\n        \"num_unique_values\": 612,\n        \"samples\": [\n          0.420610964,\n          0.168416171\n        ],\n        \"semantic_type\": \"\",\n        \"description\": \"\"\n      }\n    },\n    {\n      \"column\": \"score_social\",\n      \"properties\": {\n        \"dtype\": \"number\",\n        \"std\": 0.0761796573204536,\n        \"min\": 0.0,\n        \"max\": 1.0,\n        \"num_unique_values\": 1459,\n        \"samples\": [\n          0.1674,\n          0.6381\n        ],\n        \"semantic_type\": \"\",\n        \"description\": \"\"\n      }\n    },\n    {\n      \"column\": \"cambio_telefono\",\n      \"properties\": {\n        \"dtype\": \"number\",\n        \"std\": 818.1417090553241,\n        \"min\": 0.0,\n        \"max\": 4185.0,\n        \"num_unique_values\": 3408,\n        \"samples\": [\n          966.0,\n          3099.0\n        ],\n        \"semantic_type\": \"\",\n        \"description\": \"\"\n      }\n    },\n    {\n      \"column\": \"moroso\",\n      \"properties\": {\n        \"dtype\": \"number\",\n        \"std\": 0,\n        \"min\": 0,\n        \"max\": 1,\n        \"num_unique_values\": 2,\n        \"samples\": [\n          1,\n          0\n        ],\n        \"semantic_type\": \"\",\n        \"description\": \"\"\n      }\n    }\n  ]\n}"
            }
          },
          "metadata": {},
          "execution_count": 5
        }
      ]
    },
    {
      "cell_type": "code",
      "source": [
        "#Paso 2: segmentar el conjunto de datos de nuestra base para obtener los atributos explicativos de la variable respuesta\n",
        "#puedes colocar mayúscula porq' se trata de 1 MATRIZ\n",
        "#separamos en X todas las variables explicat. y en y queda sólo la columna \"moroso\"\n",
        "#cargar con play\n",
        "\n",
        "X = datos.drop(columns= 'moroso', axis= 1)\n",
        "y = datos.moroso\n"
      ],
      "metadata": {
        "id": "MikoMXI7P4dG"
      },
      "execution_count": 6,
      "outputs": []
    },
    {
      "cell_type": "code",
      "source": [
        "#vamos a utilizar un modelo de clasificación\n",
        "#creamos la variable \"modelo\" y lo dejamos como igual a clasificador de árbol y sin pasar ningún parámetro (vacío)\n",
        "#ejecutamos modelo.fit sobre ambos (X, y)---> para entrenar el modelo a partir de las variables explicativas y la variable respuesta\n",
        "#ejecutamos .score para ver el puntaje del modelo sobre X e y\n",
        "#recordar por qué este modelo (sin pasar ningún parámetro da 100%)... OJOOO\n",
        "\n",
        "\n",
        "from sklearn.tree import DecisionTreeClassifier\n",
        "\n",
        "modelo = DecisionTreeClassifier()\n",
        "modelo.fit(X, y)\n",
        "modelo.score(X, y)\n",
        "\n"
      ],
      "metadata": {
        "id": "jXSB1rRe3yoT",
        "outputId": "6d189580-a38f-4dc5-fdda-e7e2b6f1ecb6",
        "colab": {
          "base_uri": "https://localhost:8080/"
        }
      },
      "execution_count": 7,
      "outputs": [
        {
          "output_type": "execute_result",
          "data": {
            "text/plain": [
              "1.0"
            ]
          },
          "metadata": {},
          "execution_count": 7
        }
      ]
    },
    {
      "cell_type": "code",
      "source": [
        "#obviamente el resultado no es confiable y debemos trabajar aún más en la base de datos\n",
        "\n",
        "print(f'La exactitud del modelo es: {modelo.score(X, y)}')\n"
      ],
      "metadata": {
        "id": "ZBCw0MSW3ywg",
        "outputId": "bfdb74c3-9ae5-4a3b-ac34-21e3389d8c51",
        "colab": {
          "base_uri": "https://localhost:8080/"
        }
      },
      "execution_count": 8,
      "outputs": [
        {
          "output_type": "stream",
          "name": "stdout",
          "text": [
            "La exactitud del modelo es: 1.0\n"
          ]
        }
      ]
    },
    {
      "cell_type": "code",
      "source": [],
      "metadata": {
        "id": "gDrVjBdb3y4d"
      },
      "execution_count": 8,
      "outputs": []
    },
    {
      "cell_type": "markdown",
      "source": [
        "### Validando el modelo"
      ],
      "metadata": {
        "id": "EPrFcm39oAof"
      }
    },
    {
      "cell_type": "markdown",
      "source": [
        "Evaluar el modelo con los mismos datos utilizados en el entrenamiento no es recomendable. Es necesario que la evaluación se realice con datos independientes.  \n",
        "\n",
        "Evaluar el modelo con los propios datos de entrenamiento sería equivalente a entregar un examen con las preguntas y las respuestas a una persona y, al momento de evaluarla nuevamente, entregarle un examen con las mismas preguntas y opciones. Se espera que esa persona obtenga un buen resultado, ya que ya ha visto las respuestas y ha memorizado el resultado. Esto es diferente de haber aprendido la materia a partir de ese examen y luego presentar una prueba con contenido similar y obtener un resultado positivo.  \n",
        "\n",
        "Con el objetivo de verificar la capacidad de generalización de un modelo, debemos dividir el conjunto de datos en tres partes: datos de entrenamiento, validación y prueba.  \n",
        "\n",
        "- El **conjunto de entrenamiento** se utiliza para entrenar los modelos. A partir de este conjunto, los modelos identifican patrones en los datos.  \n",
        "\n",
        "- El **conjunto de validación** se emplea para evaluar el desempeño de diferentes modelos con datos nuevos que no fueron utilizados en el entrenamiento.  \n",
        "\n",
        "- El **conjunto de prueba** se mantiene separado desde el inicio para simular datos del mundo real. No se utiliza en ninguna etapa del entrenamiento ni de la validación, sirviendo como una estimación de la capacidad del modelo elegido para generalizar y predecir nuevos datos."
      ],
      "metadata": {
        "id": "v0u-uij9eNcD"
      }
    },
    {
      "cell_type": "markdown",
      "source": [
        "<a href=\"https://ibb.co/9H2Z1HZ5\"><img src=\"https://i.ibb.co/0yZs6ysb/datos-train-test.png\" alt=\"datos-train-test\" border=\"0\"></a>"
      ],
      "metadata": {
        "id": "TCIN5oOJFk_W"
      }
    },
    {
      "cell_type": "code",
      "source": [
        "#el objetivo es tener un subgrupo de VALIDACIÓN, en la parte entrenamiento, para probar el modelo\n",
        "#vamos a imprtar de sklearn un paquete que nos facilita este trabajo\n",
        "#el train_test_split hace la separación básica (entrenamiento/ prueba)\n",
        "#necesitamos 1 paso más\n",
        "\n",
        "from sklearn.model_selection import train_test_split\n"
      ],
      "metadata": {
        "id": "OICJjv9HP1QZ"
      },
      "execution_count": 9,
      "outputs": []
    },
    {
      "cell_type": "code",
      "source": [
        "#X, X_test, y, y_test serán los de prueba\n",
        "#tomamos una base de prueba con test_size del 15%\n",
        "#usamos método stratify (de y) que deja la misma cantidad de observaciones para morosos en los 2 conjuntos de datos que estamos separando\n",
        "#random_state se refiere al estado de aleatoriedad que permite replicar esta misma división en cualq'r momento (dividir de la misma manera)\n",
        "#después, vamos a hacer lo mismo para la VALIDACIÓN\n",
        "#sin test_size porq' cuando no se especifica equivale al 25%\n",
        "#ejecutamos con play\n",
        "\n",
        "X, X_test, y, y_test = train_test_split(X, y, test_size= 0.15, stratify= y, random_state= 5)\n",
        "\n",
        "X_train, X_val, y_train, y_val = train_test_split(X, y, stratify= y, random_state= 5)\n"
      ],
      "metadata": {
        "id": "mvDcVFFDP1sB"
      },
      "execution_count": 10,
      "outputs": []
    },
    {
      "cell_type": "code",
      "source": [
        "#vamos a instanciar nuestro modelo (sin parámetros) ***NO es una buena práctica pero lo veremos bien después\n",
        "#vamos a calcular la exactitud del modelo tanto para validación como para prueba\n",
        "#resultado muestra que el modelo de árbol memorizó todas las salidas y en la validación sólo llegó al 84%\n",
        "#por tanto, ésta no es la mejor forma de instanciar un modelo de árbol de decisión\n",
        "# entonces debemos darle una profundidad al menos y lo vamos a hacer con max_depth=10\n",
        "\n",
        "\n",
        "modelo = DecisionTreeClassifier()\n",
        "modelo.fit(X_train, y_train)\n",
        "\n",
        "print(f'La exactitud del modelo con el conjunto de entrenamiento es de: {modelo.score(X_train, y_train)}')\n",
        "print(f'La exactitud del modelo con el conjunto de validación es de: {modelo.score(X_val, y_val)}')\n"
      ],
      "metadata": {
        "id": "sEJPwwG_P1Md",
        "outputId": "ed085012-d062-4571-a077-f4da85b50803",
        "colab": {
          "base_uri": "https://localhost:8080/"
        }
      },
      "execution_count": 11,
      "outputs": [
        {
          "output_type": "stream",
          "name": "stdout",
          "text": [
            "La exactitud del modelo con el conjunto de entrenamiento es de: 1.0\n",
            "La exactitud del modelo con el conjunto de validación es de: 0.8471387509798798\n"
          ]
        }
      ]
    },
    {
      "cell_type": "code",
      "source": [
        "#vemos por el resultado que está generalizando mejor (92% y 90%)\n",
        "\n",
        "modelo = DecisionTreeClassifier(max_depth= 10)\n",
        "modelo.fit(X_train, y_train)\n",
        "\n",
        "print(f'La exactitud del modelo con el conjunto de entrenamiento es de: {modelo.score(X_train, y_train)}')\n",
        "print(f'La exactitud del modelo con el conjunto de validación es de: {modelo.score(X_val, y_val)}')\n"
      ],
      "metadata": {
        "id": "NIeGQZGcP1J1",
        "outputId": "497f60d7-9e6e-4136-f77d-dd82c6242876",
        "colab": {
          "base_uri": "https://localhost:8080/"
        }
      },
      "execution_count": 12,
      "outputs": [
        {
          "output_type": "stream",
          "name": "stdout",
          "text": [
            "La exactitud del modelo con el conjunto de entrenamiento es de: 0.9205865272938444\n",
            "La exactitud del modelo con el conjunto de validación es de: 0.9061928403449176\n"
          ]
        }
      ]
    },
    {
      "cell_type": "code",
      "source": [
        "#esta generalización nos da una idea pero no sabemos a qué se refiere el 92% y el 90%\n",
        "#¿qué generalizó bien?, ¿cuántos morosos?, ¿cuántos clientes que cumplen?\n"
      ],
      "metadata": {
        "id": "MdhL1-S9JbBH"
      },
      "execution_count": 13,
      "outputs": []
    },
    {
      "cell_type": "code",
      "source": [],
      "metadata": {
        "id": "rnZ4AydUJbYG"
      },
      "execution_count": 13,
      "outputs": []
    },
    {
      "cell_type": "markdown",
      "source": [
        "### Evaluando el modelo"
      ],
      "metadata": {
        "id": "WtlRAZt96VLG"
      }
    },
    {
      "cell_type": "code",
      "source": [
        "#primero importamos la matriz de confusión\n",
        "\n",
        "from sklearn.metrics import confusion_matrix\n"
      ],
      "metadata": {
        "id": "IlUZBhPrPyYh"
      },
      "execution_count": 14,
      "outputs": []
    },
    {
      "cell_type": "code",
      "source": [
        "#creamos 1 variable llamada y_previsto\n",
        "#vamos a hacer una predicción con la X de validación (X_val)\n",
        "#y_val es el valor real e y_previsto es el valor que vamos a predecir\n",
        "#no sabemos qué representan los números, por lo tanto, vamos a importar otro recurso\n",
        "\n",
        "y_previsto = modelo.predict(X_val)\n",
        "\n",
        "matriz_confusion = confusion_matrix(y_val, y_previsto)\n",
        "\n",
        "print(matriz_confusion)\n"
      ],
      "metadata": {
        "id": "iill3u5HPyOA",
        "outputId": "6d776750-b5e3-4524-b39f-fb50ca5873e5",
        "colab": {
          "base_uri": "https://localhost:8080/"
        }
      },
      "execution_count": 15,
      "outputs": [
        {
          "output_type": "stream",
          "name": "stdout",
          "text": [
            "[[10363   116]\n",
            " [  961    41]]\n"
          ]
        }
      ]
    },
    {
      "cell_type": "code",
      "source": [
        "#ConfusionMatrixDisplay---> nos permite dibujar nuestra matriz de confusión\n",
        "\n",
        "from sklearn.metrics import ConfusionMatrixDisplay\n"
      ],
      "metadata": {
        "id": "gtFWt6emPyJt"
      },
      "execution_count": 16,
      "outputs": []
    },
    {
      "cell_type": "code",
      "source": [
        "#agregamos 1 variable para visualizar la matriz_confusión que nos salió con puros números [[10356  123   958   44]]\n",
        "#el \";\" es para evitar tener que importar matplotlib (necesario para hacer un plt.show)\n",
        "#en eje y están los valores reales: 0=el que cumple; 1=deudor\n",
        "#en eje X están los valores previstos: 0=el que cumple; 1=deudor\n",
        "\n",
        "\n",
        "visualizacion = ConfusionMatrixDisplay(matriz_confusion)\n",
        "\n",
        "visualizacion.plot();\n"
      ],
      "metadata": {
        "id": "qg0OgZeqPyGJ",
        "outputId": "077a62db-a370-431e-d687-0324aa0f5f94",
        "colab": {
          "base_uri": "https://localhost:8080/",
          "height": 449
        }
      },
      "execution_count": 17,
      "outputs": [
        {
          "output_type": "display_data",
          "data": {
            "text/plain": [
              "<Figure size 640x480 with 2 Axes>"
            ],
            "image/png": "[encoded data removed]"
          },
          "metadata": {}
        }
      ]
    },
    {
      "cell_type": "code",
      "source": [
        "#aún está un poco difícil de leer---> agregaremos etiquetas\n",
        "#confusion_matrix es igual a matriz de confusión\n",
        "#display_labels (etiquetas) con una lista de Python con 2 elementos \"Cumplido y Moroso\"\n",
        "#¿qué dice la matriz de confusión?: del modelo predijo cumplidos al momento de validar, más de 10.000 clientes correcta%\n",
        "#                                  s/e, 960 dijo que eran cumplidos y son morosos\n",
        "#en cuanto a los morosos dijo: 118 eran morosos cuando en realidad son cumplidos\n",
        "#                              y sólo identificó a 42 morosos\n",
        "\n",
        "visualizacion = ConfusionMatrixDisplay(confusion_matrix = matriz_confusion, display_labels= ['Cumplido', 'Moroso'])\n",
        "\n",
        "visualizacion.plot();\n"
      ],
      "metadata": {
        "id": "qX5PLZAGZJOi",
        "outputId": "5a54945d-ee43-4dd7-9a3b-b3ecbc894b1d",
        "colab": {
          "base_uri": "https://localhost:8080/",
          "height": 449
        }
      },
      "execution_count": 18,
      "outputs": [
        {
          "output_type": "display_data",
          "data": {
            "text/plain": [
              "<Figure size 640x480 with 2 Axes>"
            ],
            "image/png": "[encoded data removed]"
          },
          "metadata": {}
        }
      ]
    },
    {
      "cell_type": "code",
      "source": [],
      "metadata": {
        "id": "62T69pSDZJZ3"
      },
      "execution_count": 18,
      "outputs": []
    },
    {
      "cell_type": "code",
      "source": [
        "\n",
        "\n",
        "!wget https://github.com/alura-es-cursos/2162-clasificacion-validacion-de-modelos-y-metricas/raw/refs/heads/desafios/diabetes.csv\n"
      ],
      "metadata": {
        "id": "2w7XcJ73ZJk4",
        "outputId": "2529836d-9cb0-4648-b182-8c0f4eb73d1c",
        "colab": {
          "base_uri": "https://localhost:8080/"
        }
      },
      "execution_count": 19,
      "outputs": [
        {
          "output_type": "stream",
          "name": "stdout",
          "text": [
            "--2025-08-17 20:43:37--  https://github.com/alura-es-cursos/2162-clasificacion-validacion-de-modelos-y-metricas/raw/refs/heads/desafios/diabetes.csv\n",
            "Resolving github.com (github.com)... 140.82.113.4\n",
            "Connecting to github.com (github.com)|140.82.113.4|:443... connected.\n",
            "HTTP request sent, awaiting response... 302 Found\n",
            "Location: https://raw.githubusercontent.com/alura-es-cursos/2162-clasificacion-validacion-de-modelos-y-metricas/refs/heads/desafios/diabetes.csv [following]\n",
            "--2025-08-17 20:43:38--  https://raw.githubusercontent.com/alura-es-cursos/2162-clasificacion-validacion-de-modelos-y-metricas/refs/heads/desafios/diabetes.csv\n",
            "Resolving raw.githubusercontent.com (raw.githubusercontent.com)... 185.199.111.133, 185.199.108.133, 185.199.110.133, ...\n",
            "Connecting to raw.githubusercontent.com (raw.githubusercontent.com)|185.199.111.133|:443... connected.\n",
            "HTTP request sent, awaiting response... 200 OK\n",
            "Length: 8960 (8.8K) [text/plain]\n",
            "Saving to: ‘diabetes.csv’\n",
            "\n",
            "diabetes.csv        100%[===================>]   8.75K  --.-KB/s    in 0s      \n",
            "\n",
            "2025-08-17 20:43:38 (80.0 MB/s) - ‘diabetes.csv’ saved [8960/8960]\n",
            "\n"
          ]
        }
      ]
    },
    {
      "cell_type": "code",
      "source": [],
      "metadata": {
        "id": "R6jmqYuXqo7s"
      },
      "execution_count": 19,
      "outputs": []
    },
    {
      "cell_type": "code",
      "source": [],
      "metadata": {
        "id": "nsbI0ks6qpHV"
      },
      "execution_count": 19,
      "outputs": []
    },
    {
      "cell_type": "markdown",
      "source": [
        "## <font color='dark'>Métricas de evaluación</h1>"
      ],
      "metadata": {
        "id": "tPogL-24ntSH"
      }
    },
    {
      "cell_type": "markdown",
      "source": [
        "### Exactitud, precisión y recall (sensibilidad)."
      ],
      "metadata": {
        "id": "nP1WfyyR6XMl"
      }
    },
    {
      "cell_type": "markdown",
      "source": [
        "<a href=\"https://ibb.co/351SbY7t\"><img src=\"https://i.ibb.co/wZypqrRD/matriz-confusion.png\" alt=\"matriz-confusion\" border=\"0\"></a>"
      ],
      "metadata": {
        "id": "oE8N0NqoH6hy"
      }
    },
    {
      "cell_type": "markdown",
      "source": [
        "<a href=\"https://imgbb.com/\"><img src=\"https://i.ibb.co/6Jp6rKyC/Captura-de-tela-2025-03-22-120744.png\" alt=\"Captura-de-tela-2025-03-22-120744\" border=\"0\"></a>"
      ],
      "metadata": {
        "id": "k0ldCSgoZiPX"
      }
    },
    {
      "cell_type": "code",
      "source": [
        "#cuadrante 1: Verdadero Negativo = valor real 0 (cliente cumplido 0 y valor predicho 0) más de 10.000 clientes\n",
        "#cuadrante 2: Falso Positivo = valor real 0 y valor predicho 1 (moroso), 123 clientes que pagan (cumplidos)---> ERROR TIPO 1\n",
        "#cuadrante 3: Falso Negativo = valor real moroso y valor predicho 0 (cumplido), son 957 morosos---> ERROR TIPO 2\n",
        "#cuadrante 4: Verdadero Positivo = valor real moroso, valor predicho moroso, 45 clientes\n"
      ],
      "metadata": {
        "id": "IIEaf2fmPmq1"
      },
      "execution_count": 20,
      "outputs": []
    },
    {
      "cell_type": "code",
      "source": [
        "#para hacer los cálculos automática%, importamos de sklearn las métricas\n",
        "\n",
        "from sklearn.metrics import accuracy_score, precision_score, recall_score, f1_score\n"
      ],
      "metadata": {
        "id": "QnGxEIrWPmbx"
      },
      "execution_count": 21,
      "outputs": []
    },
    {
      "cell_type": "code",
      "source": [
        "#primera fórmula---> Precisión TP/ TP + FP---> 26% de Precisión (muy deficiente)\n",
        "\n",
        "45/ (45 + 123)\n"
      ],
      "metadata": {
        "id": "7C7NoVZnPmX1",
        "outputId": "8e20da36-686e-45d5-8f36-0fd72cc4680f",
        "colab": {
          "base_uri": "https://localhost:8080/"
        }
      },
      "execution_count": 22,
      "outputs": [
        {
          "output_type": "execute_result",
          "data": {
            "text/plain": [
              "0.26785714285714285"
            ]
          },
          "metadata": {},
          "execution_count": 22
        }
      ]
    },
    {
      "cell_type": "code",
      "source": [
        "#métricas que vamos a calcular...\n",
        "#la métrica de validación que vamos a utilizar y vamos a mejorar es RECALL\n",
        "\n",
        "print(f'La precisión del modelo es de: {precision_score(y_val, y_previsto)}')\n",
        "print(f'La sensibilidad (recall) del modelo es de: {recall_score(y_val, y_previsto)}')\n",
        "print(f'La exactitud (accuracy) del modelo es de: {accuracy_score(y_val, y_previsto)}')\n"
      ],
      "metadata": {
        "id": "u2SqICFJPmU-",
        "outputId": "66938b61-96d7-4970-9f7d-4230220ec2aa",
        "colab": {
          "base_uri": "https://localhost:8080/"
        }
      },
      "execution_count": 23,
      "outputs": [
        {
          "output_type": "stream",
          "name": "stdout",
          "text": [
            "La precisión del modelo es de: 0.2611464968152866\n",
            "La sensibilidad (recall) del modelo es de: 0.04091816367265469\n",
            "La exactitud (accuracy) del modelo es de: 0.9061928403449176\n"
          ]
        }
      ]
    },
    {
      "cell_type": "code",
      "source": [
        "#vamos a ver el F1-score sólo como referencia\n",
        "#el resultado de 0.070 me indica que está más lejos de 1... o sea, el modelo está desempeñándose muy mal\n",
        "\n",
        "print(f'El F1-score del modelo es de: {f1_score(y_val, y_previsto)}')\n"
      ],
      "metadata": {
        "id": "Uma02ip3btZo",
        "outputId": "1ddb4979-5704-46f8-a8fb-4ca33de972db",
        "colab": {
          "base_uri": "https://localhost:8080/"
        }
      },
      "execution_count": 24,
      "outputs": [
        {
          "output_type": "stream",
          "name": "stdout",
          "text": [
            "El F1-score del modelo es de: 0.07075064710957722\n"
          ]
        }
      ]
    },
    {
      "cell_type": "code",
      "source": [],
      "metadata": {
        "id": "5a2h4Se0btf6"
      },
      "execution_count": 24,
      "outputs": []
    },
    {
      "cell_type": "code",
      "source": [],
      "metadata": {
        "id": "ALdWY5xvbtn9"
      },
      "execution_count": 24,
      "outputs": []
    },
    {
      "cell_type": "markdown",
      "source": [
        "### Curva ROC"
      ],
      "metadata": {
        "id": "I8ELhexg2jNx"
      }
    },
    {
      "cell_type": "code",
      "source": [
        "from IPython.display import Image\n",
        "Image(url='https://raw.githubusercontent.com/dariyasydykova/open_projects/master/ROC_animation/animations/cutoff.gif')"
      ],
      "metadata": {
        "colab": {
          "base_uri": "https://localhost:8080/",
          "height": 421
        },
        "id": "PhUNE4Xm4MII",
        "outputId": "ece5b621-a88a-4cbe-e4da-b0d088be3068"
      },
      "execution_count": 25,
      "outputs": [
        {
          "output_type": "execute_result",
          "data": {
            "text/html": [
              "<img src=\"https://raw.githubusercontent.com/dariyasydykova/open_projects/master/ROC_animation/animations/cutoff.gif\"/>"
            ],
            "text/plain": [
              "<IPython.core.display.Image object>"
            ]
          },
          "metadata": {},
          "execution_count": 25
        }
      ]
    },
    {
      "cell_type": "markdown",
      "source": [
        "Fuente: [paulvanderlaken.com](https://paulvanderlaken.com/2019/08/16/roc-auc-precision-and-recall-visually-explained/)\n",
        "\n",
        "\n"
      ],
      "metadata": {
        "id": "XK8_7Ruy32BT"
      }
    },
    {
      "cell_type": "code",
      "source": [
        "#es otro mecanismo de validac. de modelo\n",
        "#ROC es característica operativa del receptor\n",
        "\n",
        "from sklearn.metrics import RocCurveDisplay\n"
      ],
      "metadata": {
        "id": "FHc-8FjePhM6"
      },
      "execution_count": 26,
      "outputs": []
    },
    {
      "cell_type": "code",
      "source": [
        "#vamos a graficar\n",
        "#notamos que es un modelo deficiente ya que es casi línea recta (o sea, marca aleatoriedad 50/ 50), no sirve\n",
        "\n",
        "RocCurveDisplay.from_predictions(y_val, y_previsto, name= 'Árbol de decisión');\n"
      ],
      "metadata": {
        "id": "V6Ua2rY3PhFt",
        "outputId": "5e84c4fd-8681-4a59-f114-49001ec8b4b2",
        "colab": {
          "base_uri": "https://localhost:8080/",
          "height": 451
        }
      },
      "execution_count": 27,
      "outputs": [
        {
          "output_type": "display_data",
          "data": {
            "text/plain": [
              "<Figure size 640x480 with 1 Axes>"
            ],
            "image/png": "[encoded data removed]"
          },
          "metadata": {}
        }
      ]
    },
    {
      "cell_type": "code",
      "source": [
        " #ahora vamos a traer el puntaje del área bajo la curva (AUC)\n",
        " #cargamos con play\n",
        "\n",
        "from sklearn.metrics import roc_auc_score\n"
      ],
      "metadata": {
        "id": "LJE-yyWMPg8R"
      },
      "execution_count": 28,
      "outputs": []
    },
    {
      "cell_type": "code",
      "source": [
        "#ayuda a validar el modelo\n",
        "\n",
        "print(f'El área bajo la curva ROC es: {roc_auc_score(y_val, y_previsto)}')\n"
      ],
      "metadata": {
        "id": "WdB9hPxguFdb",
        "outputId": "8c1829f5-dae6-4472-c1f5-bcb2d3d5b9b3",
        "colab": {
          "base_uri": "https://localhost:8080/"
        }
      },
      "execution_count": 29,
      "outputs": [
        {
          "output_type": "stream",
          "name": "stdout",
          "text": [
            "El área bajo la curva ROC es: 0.5149242025539531\n"
          ]
        }
      ]
    },
    {
      "cell_type": "code",
      "source": [],
      "metadata": {
        "id": "nlqu6MdluFm8"
      },
      "execution_count": 29,
      "outputs": []
    },
    {
      "cell_type": "code",
      "source": [],
      "metadata": {
        "id": "7mtvjPHsPi1o"
      },
      "execution_count": 29,
      "outputs": []
    },
    {
      "cell_type": "markdown",
      "source": [
        "### Curva de  precisión x sensibilidad"
      ],
      "metadata": {
        "id": "IztSEZfh7QFe"
      }
    },
    {
      "cell_type": "code",
      "source": [
        "Image(url='https://paulvanderlaken.com/wp-content/uploads/2019/08/roc.gif')"
      ],
      "metadata": {
        "colab": {
          "base_uri": "https://localhost:8080/",
          "height": 421
        },
        "id": "EJzfjuxa3fxD",
        "outputId": "988af9eb-64bf-40f6-fcf7-e9c52387d89f"
      },
      "execution_count": 30,
      "outputs": [
        {
          "output_type": "execute_result",
          "data": {
            "text/html": [
              "<img src=\"https://paulvanderlaken.com/wp-content/uploads/2019/08/roc.gif\"/>"
            ],
            "text/plain": [
              "<IPython.core.display.Image object>"
            ]
          },
          "metadata": {},
          "execution_count": 30
        }
      ]
    },
    {
      "cell_type": "markdown",
      "source": [
        "Fuente: [paulvanderlaken.com](https://paulvanderlaken.com/2019/08/16/roc-auc-precision-and-recall-visually-explained/)\n"
      ],
      "metadata": {
        "id": "bUoGCSUB4msC"
      }
    },
    {
      "cell_type": "code",
      "source": [
        "#otra métrica de vakidación muy importante\n",
        "#el predictor ideal es el que logra aislar bien y determinar de forma perfecta cada categoría\n",
        "#cuando separamos bien cada 1 de estas clases el AUC llega casi a 1.0 y el modelo va a ser mejor\n",
        "#traemos new% PrecisionRecallDisplay con \"play\"\n",
        "\n",
        "from sklearn.metrics import PrecisionRecallDisplay\n",
        "\n"
      ],
      "metadata": {
        "id": "7t20ira6Pcds"
      },
      "execution_count": 31,
      "outputs": []
    },
    {
      "cell_type": "code",
      "source": [
        "#es muy parecido a lo hecho anterior%\n",
        "#aún es deficiente por que el resultado es 0.10 (muy lejos de 1)\n",
        "\n",
        "PrecisionRecallDisplay.from_predictions(y_val, y_previsto, name= 'Árbol de decisión');\n"
      ],
      "metadata": {
        "id": "Drs3Z6RTPcTc",
        "outputId": "ca580278-8ea6-4fca-ad87-9d662dd3a9d8",
        "colab": {
          "base_uri": "https://localhost:8080/",
          "height": 451
        }
      },
      "execution_count": 32,
      "outputs": [
        {
          "output_type": "display_data",
          "data": {
            "text/plain": [
              "<Figure size 640x480 with 1 Axes>"
            ],
            "image/png": "[encoded data removed]"
          },
          "metadata": {}
        }
      ]
    },
    {
      "cell_type": "code",
      "source": [
        "#ahora llamamos otra métrica para probar\n",
        "#cargamos con play\n",
        "\n",
        "from sklearn.metrics import average_precision_score\n"
      ],
      "metadata": {
        "id": "DmhO5H5cPcOp"
      },
      "execution_count": 33,
      "outputs": []
    },
    {
      "cell_type": "code",
      "source": [
        "#para tratar de validar el modelo pero da 0.09\n",
        "\n",
        "print(f'El score promedio de precisión versus recall es: {average_precision_score(y_val, y_previsto)}')\n"
      ],
      "metadata": {
        "id": "F9XD9U5xz4-h",
        "outputId": "c818ebfe-fe97-4fe7-f662-3191f2900ab0",
        "colab": {
          "base_uri": "https://localhost:8080/"
        }
      },
      "execution_count": 34,
      "outputs": [
        {
          "output_type": "stream",
          "name": "stdout",
          "text": [
            "El score promedio de precisión versus recall es: 0.09438914524642801\n"
          ]
        }
      ]
    },
    {
      "cell_type": "code",
      "source": [
        "#OJOOO: ya vimos varias métricas importantes\n",
        "# vimos precisión,\n",
        "#       recall,\n",
        "#       exactitud,\n",
        "#       curva ROC,\n",
        "#       área bajo la curva,\n",
        "#       área bajo la curva de precisión y recall,\n",
        "#       promedio de la curva\n",
        "\n"
      ],
      "metadata": {
        "id": "8R5Pj2VNz5Ky"
      },
      "execution_count": 35,
      "outputs": []
    },
    {
      "cell_type": "code",
      "source": [],
      "metadata": {
        "id": "5ziq_unpz5Xa"
      },
      "execution_count": 35,
      "outputs": []
    },
    {
      "cell_type": "code",
      "source": [],
      "metadata": {
        "id": "SS08sHDkPeaG"
      },
      "execution_count": 35,
      "outputs": []
    },
    {
      "cell_type": "markdown",
      "source": [
        "### Informe de métricas"
      ],
      "metadata": {
        "id": "Bm2E6GEJDJLH"
      }
    },
    {
      "cell_type": "code",
      "source": [
        "#analizar todos los resultados desde un mismo lugar\n",
        "#cargamos con play\n",
        "\n",
        "from sklearn.metrics import classification_report\n"
      ],
      "metadata": {
        "id": "C85qunYhPZTJ"
      },
      "execution_count": 36,
      "outputs": []
    },
    {
      "cell_type": "code",
      "source": [
        "#instanciamos directamente\n",
        "#classification_report recibe 2 variables: y_val es el valor real e y_previsto es el valor a predecir\n",
        "#tenemos precision (precisión):\n",
        "#        recall (sensibilidad):\n",
        "#        f1-score (score F1):\n",
        "#        support (cantidad muestras q' soportan estos valores):\n",
        "#clase 0, pagan y clase 1, morosos---> se hace el cálculo basado en 11.481 observaciones\n",
        "# 10.479 pagan bien (precision 0.92) y 1.002 son morosos (precision 0.26)\n",
        "#el 0.04 de recall indica que el modelo es deficiente, no identifica bien a los morosos\n",
        "#la exactitud (accuracy) a pesar de marcar 0.91 no necesaria% indica que mi modelo esté clasificando bien\n",
        "#macro avg es el promedio general (en precision suma 0.92 y 0.26 y divide x 2), igual para recall y f1-score. Support es el total de la muestra\n",
        "#weighted avg es el promedio ponderado (precisión veces soporte, dividido por el total de la muestra)\n",
        "#profe: el desbalanceo (1002 morosos///10.479 cumplidos) determina promedios ponderados q' favorecen la clase más frecuente (cumplidos)\n",
        "\n",
        "print(classification_report(y_val, y_previsto))\n"
      ],
      "metadata": {
        "id": "pnN6QRlYPZQR",
        "outputId": "d6e67c8c-94d3-455a-c60f-0f2ff89f647d",
        "colab": {
          "base_uri": "https://localhost:8080/"
        }
      },
      "execution_count": 37,
      "outputs": [
        {
          "output_type": "stream",
          "name": "stdout",
          "text": [
            "              precision    recall  f1-score   support\n",
            "\n",
            "           0       0.92      0.99      0.95     10479\n",
            "           1       0.26      0.04      0.07      1002\n",
            "\n",
            "    accuracy                           0.91     11481\n",
            "   macro avg       0.59      0.51      0.51     11481\n",
            "weighted avg       0.86      0.91      0.87     11481\n",
            "\n"
          ]
        }
      ]
    },
    {
      "cell_type": "code",
      "source": [
        "#hemos evaluado y validado nuestros modelos de Machine Learning (Aprendizaje Automático) con diversas métricas.\n",
        "#trabajamos con la exactitud, precisión, sensibilidad, la curva ROC, la curva de precisión y el área bajo la curva entre precisión y recall.\n",
        "#Pero realizamos todas las validaciones con el mismo conjunto de datos de entrenamiento y validación, y en el mismo orden\n",
        "#aleatoria%, se dividió 75% para entrenamiento y 25% para validación\n",
        "#esta división puede tener 1 patrón específico y debido a este patrón, nuestro modelo generaliza con base en ese único patrón\n",
        "#al ponerlo en producción, puede tener 1 desempeño mejor o peor porque aprendió con un único patrón de división\n",
        "#Aquí es donde entra en juego la validación cruzada...\n",
        "\n",
        "\n"
      ],
      "metadata": {
        "id": "PvBOIO-M8glD"
      },
      "execution_count": 38,
      "outputs": []
    },
    {
      "cell_type": "code",
      "source": [],
      "metadata": {
        "id": "fCyiN5Bt8gw5"
      },
      "execution_count": 38,
      "outputs": []
    },
    {
      "cell_type": "markdown",
      "source": [
        "## <font color='dark'> Validación cruzada</h1>"
      ],
      "metadata": {
        "id": "SuxCy_oZZQxE"
      }
    },
    {
      "cell_type": "markdown",
      "source": [
        "### Usando KFold"
      ],
      "metadata": {
        "id": "17q2T0iRnzSg"
      }
    },
    {
      "cell_type": "markdown",
      "source": [
        "La validación del modelo de clasificación a partir de la separación de los datos en conjuntos de entrenamiento y validación hace que el resultado dependa en gran medida de esta división. Puede suceder que, de forma aleatoria, el patrón de los datos de validación sea diferente al de los datos de entrenamiento, lo que podría llevar a obtener un resultado mucho mejor o mucho peor que la realidad simplemente por suerte o mala suerte.  \n",
        "\n",
        "Teniendo esto en cuenta, es posible utilizar la **validación cruzada**, una estrategia más consistente y ampliamente utilizada en proyectos de *machine learning*.  \n",
        "\n",
        "En la validación cruzada, en lugar de separar los datos en entrenamiento y validación una sola vez, se dividen en varias partes de igual tamaño. En cada una de estas divisiones, se usa una parte para validación y todas las demás para entrenamiento. Este proceso se repite hasta que todas las partes hayan sido utilizadas tanto para validación como para entrenamiento.  \n",
        "\n",
        "Se generará un modelo para cada una de estas divisiones y la evaluación del desempeño se realizará promediando la métrica de cada modelo. Esto elimina la dependencia de la separación de los datos, ya que hay una mayor variación en la selección de los mismos y se obtiene un valor medio.  \n",
        "\n",
        "Generalmente, se utilizan 5 o 10 partes. Un número mayor no suele ser necesario, ya que implica un procesamiento más costoso, y valores menores ya ayudan a mitigar el problema de la selección de los datos."
      ],
      "metadata": {
        "id": "zjfYnDWJ6C2A"
      }
    },
    {
      "cell_type": "markdown",
      "source": [
        "<a href=\"https://ibb.co/KcBtshJR\"><img src=\"https://i.ibb.co/nq4X1mFZ/train-y-validacion.png\" alt=\"train-y-validacion\" border=\"0\"></a>"
      ],
      "metadata": {
        "id": "oSboV-QNMG__"
      }
    },
    {
      "cell_type": "code",
      "source": [
        "#para hacer esta validac. cruzada nos apoyamos en KFold y validación cruzada\n",
        "#cargamos con play\n",
        "\n",
        "from sklearn.model_selection import KFold, cross_validate\n"
      ],
      "metadata": {
        "id": "TU8HYdzmPI7P"
      },
      "execution_count": 39,
      "outputs": []
    },
    {
      "cell_type": "code",
      "source": [
        "#recreamos el modelo clasificador de árbol de decisión con profundidad maxDepth=10\n",
        "#variable kf---> KFold recibe n_splits(cantidad de divisiones= 5)\n",
        "#shuffle=True (para que se mezcle)\n",
        "#random_state=5 (estado de aleatoriedad para reproducir la misma división de segmentos de datos para entrenamiento y validación)\n",
        "#variable cv_resultados---> validación cruzada recibe el modelo (que es el estimador), recibe X, recibe y, más la validación cruzada (= a \"kf\")\n",
        "\n",
        "\n",
        "modelo = DecisionTreeClassifier(max_depth= 10)\n",
        "kf = KFold(n_splits= 5, shuffle= True, random_state= 5)\n",
        "cv_resultados = cross_validate(modelo, X, y, cv= kf)\n",
        "cv_resultados\n",
        "\n"
      ],
      "metadata": {
        "id": "McSadnzDPI4G",
        "outputId": "ec14792f-7a45-4fa7-d6e0-5d06603b64e6",
        "colab": {
          "base_uri": "https://localhost:8080/"
        }
      },
      "execution_count": 40,
      "outputs": [
        {
          "output_type": "execute_result",
          "data": {
            "text/plain": [
              "{'fit_time': array([0.22624493, 0.22062588, 0.22639751, 0.21866584, 0.21532631]),\n",
              " 'score_time': array([0.00412965, 0.00317121, 0.00312233, 0.00319982, 0.00324273]),\n",
              " 'test_score': array([0.91322809, 0.90799216, 0.90744774, 0.91376307, 0.89960801])}"
            ]
          },
          "metadata": {},
          "execution_count": 40
        }
      ]
    },
    {
      "cell_type": "code",
      "source": [
        "#vamos a separar los 5 resultados de 'test_score' que corresponde a cada una de las 5 validaciones\n",
        "\n",
        "cv_resultados['test_score']\n"
      ],
      "metadata": {
        "id": "OE5GakRIkrkU",
        "outputId": "0556b144-a608-4e8e-e59e-a2a611b1e751",
        "colab": {
          "base_uri": "https://localhost:8080/"
        }
      },
      "execution_count": 41,
      "outputs": [
        {
          "output_type": "execute_result",
          "data": {
            "text/plain": [
              "array([0.91322809, 0.90799216, 0.90744774, 0.91376307, 0.89960801])"
            ]
          },
          "metadata": {},
          "execution_count": 41
        }
      ]
    },
    {
      "cell_type": "code",
      "source": [
        "#debemos calcular el promedio de los 5 valores y luego el desvío estándar\n",
        "#con el desvío estándar se calcula el intervalo de confianza\n",
        "#de la fórmula, la parte inferior es {promedio - 2 * desvio_std}\n",
        "#en la parte superior, promedio + 2 veces la desviación estándar\n",
        "#cuando el intervalo de confianza vaya a superar 1, no se puede. Entonces, tomamos el valor mínimo\n",
        "\n",
        "promedio = cv_resultados['test_score'].mean()\n",
        "desvio_std = cv_resultados['test_score'].std()\n",
        "\n",
        "print(f'El promedio de la exactitud es: {promedio}')\n",
        "print(f'El desvío estándar de la validación cruzada es: {desvio_std}')\n",
        "print(f'El intervalo de confianza es: [{promedio - 2 * desvio_std}, {min(promedio + 2 * desvio_std, 1)}]')\n",
        "\n"
      ],
      "metadata": {
        "id": "nB6kGZJskrtV",
        "outputId": "af78a08e-d6b4-48be-ce27-5fbd240a0179",
        "colab": {
          "base_uri": "https://localhost:8080/"
        }
      },
      "execution_count": 42,
      "outputs": [
        {
          "output_type": "stream",
          "name": "stdout",
          "text": [
            "El promedio de la exactitud es: 0.9084078129771498\n",
            "El desvío estándar de la validación cruzada es: 0.005107734925824004\n",
            "El intervalo de confianza es: [0.8981923431255018, 0.9186232828287978]\n"
          ]
        }
      ]
    },
    {
      "cell_type": "code",
      "source": [],
      "metadata": {
        "id": "11UcMHsHkr5w"
      },
      "execution_count": 42,
      "outputs": []
    },
    {
      "cell_type": "code",
      "source": [],
      "metadata": {
        "id": "o5oZ8-lhPIy_"
      },
      "execution_count": 42,
      "outputs": []
    },
    {
      "cell_type": "markdown",
      "source": [
        "### Validación cruzada con sensibilidad"
      ],
      "metadata": {
        "id": "GAHrtLM2OCjO"
      }
    },
    {
      "cell_type": "code",
      "source": [
        "#hicimos una validac. cruzada usando por defecto el porcentaje de exactitud\n",
        "#s/e, la métrica que estamos usando es el recall (sensibilidad) que permite disminuir el error tipo 2\n",
        "#crearemos una función llamada intervalo de confianza\n",
        "#cargamos con play\n",
        "\n",
        "def intervalo_confianza(resultados):\n",
        "   promedio = resultados['test_score'].mean()\n",
        "   desvio_std = resultados['test_score'].std()\n",
        "\n",
        "   return f'El intervalo de confianza es: [{promedio - 2 * desvio_std}, {min(promedio + 2 * desvio_std, 1)}]'\n"
      ],
      "metadata": {
        "id": "Ywfsoe3_PLYZ"
      },
      "execution_count": 43,
      "outputs": []
    },
    {
      "cell_type": "code",
      "source": [
        "#en el parámetro scoring se informan las métricas a evaluar (aquí \"recall\")\n",
        "\n",
        "modelo = DecisionTreeClassifier(max_depth= 10)\n",
        "kf = KFold(n_splits= 5, shuffle= True, random_state= 5)\n",
        "cv_resultados = cross_validate(modelo, X, y, cv= kf, scoring= 'recall')\n",
        "cv_resultados\n"
      ],
      "metadata": {
        "id": "PV3m-6IxPLMf",
        "outputId": "ccaa9ccd-6abb-40c4-d5b3-9f6c3012ab23",
        "colab": {
          "base_uri": "https://localhost:8080/"
        }
      },
      "execution_count": 44,
      "outputs": [
        {
          "output_type": "execute_result",
          "data": {
            "text/plain": [
              "{'fit_time': array([0.22306681, 0.22320604, 0.21034455, 0.21904182, 0.21566677]),\n",
              " 'score_time': array([0.00658917, 0.00538945, 0.00526953, 0.00523043, 0.00596833]),\n",
              " 'test_score': array([0.02642008, 0.01980198, 0.0196802 , 0.01305483, 0.02543353])}"
            ]
          },
          "metadata": {},
          "execution_count": 44
        }
      ]
    },
    {
      "cell_type": "code",
      "source": [
        "#el desvío estándar es bastante grande (0.015---> 0.028)\n",
        "\n",
        "intervalo_confianza(cv_resultados)\n"
      ],
      "metadata": {
        "id": "eoxmvOj_FVjn",
        "outputId": "74ca4fe5-18fc-40e1-dc4b-3eca847e842f",
        "colab": {
          "base_uri": "https://localhost:8080/",
          "height": 35
        }
      },
      "execution_count": 45,
      "outputs": [
        {
          "output_type": "execute_result",
          "data": {
            "text/plain": [
              "'El intervalo de confianza es: [0.011275539727386374, 0.03048070529621065]'"
            ],
            "application/vnd.google.colaboratory.intrinsic+json": {
              "type": "string"
            }
          },
          "metadata": {},
          "execution_count": 45
        }
      ]
    },
    {
      "cell_type": "code",
      "source": [
        "#hasta el momento hemos usado diversas técnicas para validar el modelo\n",
        "#aún no hemos mejorado el modelo\n",
        "#OJOOOOOOOOOOOO\n"
      ],
      "metadata": {
        "id": "XFyMkqZEFVvw"
      },
      "execution_count": 46,
      "outputs": []
    },
    {
      "cell_type": "code",
      "source": [],
      "metadata": {
        "id": "h-6SCL06FV8u"
      },
      "execution_count": 46,
      "outputs": []
    },
    {
      "cell_type": "code",
      "source": [],
      "metadata": {
        "id": "Y-gpgU7pPLJv"
      },
      "execution_count": 46,
      "outputs": []
    },
    {
      "cell_type": "markdown",
      "source": [
        "### Estratificando los datos"
      ],
      "metadata": {
        "id": "-FAOYtNen4qJ"
      }
    },
    {
      "cell_type": "code",
      "source": [
        "#si observamos la cantidad de morosos y cumplidos...\n",
        "\n",
        "datos['moroso'].value_counts()\n"
      ],
      "metadata": {
        "id": "G6bPA6vaPN1A",
        "outputId": "83951f17-ff29-4410-a078-eed57e621bb0",
        "colab": {
          "base_uri": "https://localhost:8080/",
          "height": 178
        }
      },
      "execution_count": 47,
      "outputs": [
        {
          "output_type": "execute_result",
          "data": {
            "text/plain": [
              "moroso\n",
              "0    49309\n",
              "1     4716\n",
              "Name: count, dtype: int64"
            ],
            "text/html": [
              "<div>\n",
              "<style scoped>\n",
              "    .dataframe tbody tr th:only-of-type {\n",
              "        vertical-align: middle;\n",
              "    }\n",
              "\n",
              "    .dataframe tbody tr th {\n",
              "        vertical-align: top;\n",
              "    }\n",
              "\n",
              "    .dataframe thead th {\n",
              "        text-align: right;\n",
              "    }\n",
              "</style>\n",
              "<table border=\"1\" class=\"dataframe\">\n",
              "  <thead>\n",
              "    <tr style=\"text-align: right;\">\n",
              "      <th></th>\n",
              "      <th>count</th>\n",
              "    </tr>\n",
              "    <tr>\n",
              "      <th>moroso</th>\n",
              "      <th></th>\n",
              "    </tr>\n",
              "  </thead>\n",
              "  <tbody>\n",
              "    <tr>\n",
              "      <th>0</th>\n",
              "      <td>49309</td>\n",
              "    </tr>\n",
              "    <tr>\n",
              "      <th>1</th>\n",
              "      <td>4716</td>\n",
              "    </tr>\n",
              "  </tbody>\n",
              "</table>\n",
              "</div><br><label><b>dtype:</b> int64</label>"
            ]
          },
          "metadata": {},
          "execution_count": 47
        }
      ]
    },
    {
      "cell_type": "code",
      "source": [
        "#usaremos otro método, un método estratificado de KFold\n",
        "#cargamos con play\n",
        "\n",
        "from sklearn.model_selection import StratifiedKFold\n"
      ],
      "metadata": {
        "id": "HONIpY1BPNzd"
      },
      "execution_count": 48,
      "outputs": []
    },
    {
      "cell_type": "code",
      "source": [
        "#los pasos son exactamente iguales\n",
        "#sacamos cv_resultados y cargamos directamente con play (porq' vamos a usar intervalo_confianza)\n",
        "\n",
        "modelo = DecisionTreeClassifier(max_depth= 10)\n",
        "skf = StratifiedKFold(n_splits= 5, shuffle= True, random_state= 5) #que la proporción de cada clase se mantenga\n",
        "cv_resultados = cross_validate(modelo, X, y, cv= skf, scoring= 'recall')\n",
        "\n"
      ],
      "metadata": {
        "id": "jCFRBhd_PNxT"
      },
      "execution_count": 49,
      "outputs": []
    },
    {
      "cell_type": "code",
      "source": [
        "#observar que antes era de 0.015 a 0,028\n",
        "#ahora es de 0.018 a 0.037, o sea, 1.8% a 3.7%---> el desvío típico aumentó (no se puede esperar más de este modelo)\n",
        "\n",
        "intervalo_confianza(cv_resultados)\n"
      ],
      "metadata": {
        "id": "avPtJp6SQqAg",
        "outputId": "c415c812-f7db-473c-cd89-89b2000a14fe",
        "colab": {
          "base_uri": "https://localhost:8080/",
          "height": 35
        }
      },
      "execution_count": 50,
      "outputs": [
        {
          "output_type": "execute_result",
          "data": {
            "text/plain": [
              "'El intervalo de confianza es: [0.01835935262408535, 0.03601656774976156]'"
            ],
            "application/vnd.google.colaboratory.intrinsic+json": {
              "type": "string"
            }
          },
          "metadata": {},
          "execution_count": 50
        }
      ]
    },
    {
      "cell_type": "code",
      "source": [
        "#nuestro conjunto de datos está desbalanceado. La clase predominante es \"cumplido\"\n",
        "#le vemos en porcentaje---> 91%  v/s  8% y algo\n",
        "#OJOOO la muestra que quiero clasificar es muy pequeña\n",
        "#la idea del Balanceo de Datos es identificar mejor la frontera de decisión (moroso/ cumplido)\n",
        "\n",
        "datos['moroso'].value_counts(normalize= True)\n"
      ],
      "metadata": {
        "id": "0fGJoI4bQqKa",
        "outputId": "5494c6ba-2379-4ed1-a54f-9c399a7ea250",
        "colab": {
          "base_uri": "https://localhost:8080/",
          "height": 178
        }
      },
      "execution_count": 51,
      "outputs": [
        {
          "output_type": "execute_result",
          "data": {
            "text/plain": [
              "moroso\n",
              "0    0.912707\n",
              "1    0.087293\n",
              "Name: proportion, dtype: float64"
            ],
            "text/html": [
              "<div>\n",
              "<style scoped>\n",
              "    .dataframe tbody tr th:only-of-type {\n",
              "        vertical-align: middle;\n",
              "    }\n",
              "\n",
              "    .dataframe tbody tr th {\n",
              "        vertical-align: top;\n",
              "    }\n",
              "\n",
              "    .dataframe thead th {\n",
              "        text-align: right;\n",
              "    }\n",
              "</style>\n",
              "<table border=\"1\" class=\"dataframe\">\n",
              "  <thead>\n",
              "    <tr style=\"text-align: right;\">\n",
              "      <th></th>\n",
              "      <th>proportion</th>\n",
              "    </tr>\n",
              "    <tr>\n",
              "      <th>moroso</th>\n",
              "      <th></th>\n",
              "    </tr>\n",
              "  </thead>\n",
              "  <tbody>\n",
              "    <tr>\n",
              "      <th>0</th>\n",
              "      <td>0.912707</td>\n",
              "    </tr>\n",
              "    <tr>\n",
              "      <th>1</th>\n",
              "      <td>0.087293</td>\n",
              "    </tr>\n",
              "  </tbody>\n",
              "</table>\n",
              "</div><br><label><b>dtype:</b> float64</label>"
            ]
          },
          "metadata": {},
          "execution_count": 51
        }
      ]
    },
    {
      "cell_type": "code",
      "source": [],
      "metadata": {
        "id": "YEWyAR4aQqSy"
      },
      "execution_count": 51,
      "outputs": []
    },
    {
      "cell_type": "code",
      "source": [],
      "metadata": {
        "id": "v2zp08H27guU"
      },
      "execution_count": 51,
      "outputs": []
    },
    {
      "cell_type": "markdown",
      "source": [
        "## <font color='dark'>Balanceo de los datos</h1>"
      ],
      "metadata": {
        "id": "yaVwNb1kn8sX"
      }
    },
    {
      "cell_type": "markdown",
      "source": [
        "### Oversampling"
      ],
      "metadata": {
        "id": "4eYKxWJd6g6w"
      }
    },
    {
      "cell_type": "markdown",
      "source": [
        "https://imbalanced-learn.org/stable/references/generated/imblearn.over_sampling.SMOTE.html#id1"
      ],
      "metadata": {
        "id": "N0MJ7hGUmL4l"
      }
    },
    {
      "cell_type": "code",
      "source": [
        "#1 técnica para lograr el objetivo es el sobremuestreo u oversampling\n",
        "#o sea, generar datos sintéticos a partir de la minoría, para ello existe la biblioteca SMOTE\n",
        "\n",
        "from imblearn.over_sampling import SMOTE\n"
      ],
      "metadata": {
        "id": "cO0Dx5xAO4B5"
      },
      "execution_count": 52,
      "outputs": []
    },
    {
      "cell_type": "code",
      "source": [
        "#ahora instanciamos, clase SMOTE\n",
        "#luego creamos nuestra X balanceada y nuestra y balanceada\n",
        "\n",
        "oversampling = SMOTE()\n",
        "x_balanceada, y_balanceada = oversampling.fit_resample(X, y)\n"
      ],
      "metadata": {
        "id": "h6DQqcttO3_c"
      },
      "execution_count": 53,
      "outputs": []
    },
    {
      "cell_type": "code",
      "source": [
        "#ahora 'morosos' es 50% cumplidos y 50% morosos \"reales\"\n",
        "\n",
        "y_balanceada.value_counts(normalize= True)\n"
      ],
      "metadata": {
        "id": "7Lp4GoMRO355",
        "outputId": "0515147e-fc03-4863-c08b-221dbdb94611",
        "colab": {
          "base_uri": "https://localhost:8080/",
          "height": 178
        }
      },
      "execution_count": 54,
      "outputs": [
        {
          "output_type": "execute_result",
          "data": {
            "text/plain": [
              "moroso\n",
              "0    0.5\n",
              "1    0.5\n",
              "Name: proportion, dtype: float64"
            ],
            "text/html": [
              "<div>\n",
              "<style scoped>\n",
              "    .dataframe tbody tr th:only-of-type {\n",
              "        vertical-align: middle;\n",
              "    }\n",
              "\n",
              "    .dataframe tbody tr th {\n",
              "        vertical-align: top;\n",
              "    }\n",
              "\n",
              "    .dataframe thead th {\n",
              "        text-align: right;\n",
              "    }\n",
              "</style>\n",
              "<table border=\"1\" class=\"dataframe\">\n",
              "  <thead>\n",
              "    <tr style=\"text-align: right;\">\n",
              "      <th></th>\n",
              "      <th>proportion</th>\n",
              "    </tr>\n",
              "    <tr>\n",
              "      <th>moroso</th>\n",
              "      <th></th>\n",
              "    </tr>\n",
              "  </thead>\n",
              "  <tbody>\n",
              "    <tr>\n",
              "      <th>0</th>\n",
              "      <td>0.5</td>\n",
              "    </tr>\n",
              "    <tr>\n",
              "      <th>1</th>\n",
              "      <td>0.5</td>\n",
              "    </tr>\n",
              "  </tbody>\n",
              "</table>\n",
              "</div><br><label><b>dtype:</b> float64</label>"
            ]
          },
          "metadata": {},
          "execution_count": 54
        }
      ]
    },
    {
      "cell_type": "code",
      "source": [
        "#ahora lo veremos en cantidad\n",
        "#al ojo, generó + de 35.000 datos sintéticos para emular los patrones de los datos cuando el cliente es moroso\n",
        "#pero nos quedamos con el ejercicio de cálculo de porcentaje (normalize= True)\n",
        "\n",
        "y_balanceada.value_counts()\n"
      ],
      "metadata": {
        "id": "rOSmkAcxLu5-",
        "outputId": "50fdab2c-90f2-4b8f-e938-fca8bdadbb4a",
        "colab": {
          "base_uri": "https://localhost:8080/",
          "height": 178
        }
      },
      "execution_count": 55,
      "outputs": [
        {
          "output_type": "execute_result",
          "data": {
            "text/plain": [
              "moroso\n",
              "0    41912\n",
              "1    41912\n",
              "Name: count, dtype: int64"
            ],
            "text/html": [
              "<div>\n",
              "<style scoped>\n",
              "    .dataframe tbody tr th:only-of-type {\n",
              "        vertical-align: middle;\n",
              "    }\n",
              "\n",
              "    .dataframe tbody tr th {\n",
              "        vertical-align: top;\n",
              "    }\n",
              "\n",
              "    .dataframe thead th {\n",
              "        text-align: right;\n",
              "    }\n",
              "</style>\n",
              "<table border=\"1\" class=\"dataframe\">\n",
              "  <thead>\n",
              "    <tr style=\"text-align: right;\">\n",
              "      <th></th>\n",
              "      <th>count</th>\n",
              "    </tr>\n",
              "    <tr>\n",
              "      <th>moroso</th>\n",
              "      <th></th>\n",
              "    </tr>\n",
              "  </thead>\n",
              "  <tbody>\n",
              "    <tr>\n",
              "      <th>0</th>\n",
              "      <td>41912</td>\n",
              "    </tr>\n",
              "    <tr>\n",
              "      <th>1</th>\n",
              "      <td>41912</td>\n",
              "    </tr>\n",
              "  </tbody>\n",
              "</table>\n",
              "</div><br><label><b>dtype:</b> int64</label>"
            ]
          },
          "metadata": {},
          "execution_count": 55
        }
      ]
    },
    {
      "cell_type": "code",
      "source": [
        "#el siguiente paso es instanciar de nuevo nuestro modelo\n",
        "#lo único que cambia son nuestros datos, que ahora son datos sintéticos\n",
        "\n",
        "\n",
        "modelo = DecisionTreeClassifier(max_depth= 10)\n",
        "skf = StratifiedKFold(n_splits= 5, shuffle= True, random_state= 5) #que la proporción de cada clase se mantenga\n",
        "cv_resultados = cross_validate(modelo, x_balanceada, y_balanceada, cv= skf, scoring= 'recall')\n",
        "\n"
      ],
      "metadata": {
        "id": "JnJ7siFhLvHb"
      },
      "execution_count": 56,
      "outputs": []
    },
    {
      "cell_type": "code",
      "source": [
        "#vamos a ver qué sucedió\n",
        "#pasamos del 2% a un porcentaje que oscila entre el 71% y 74%\n",
        "#s/e, no debemos olvidar que generamos 40.000 datos de manera sintética... OJOOO\n",
        "\n",
        "intervalo_confianza(cv_resultados)\n"
      ],
      "metadata": {
        "id": "KhJZ_BZALvWx",
        "outputId": "8d349137-0251-43bd-81e6-993ea09d2726",
        "colab": {
          "base_uri": "https://localhost:8080/",
          "height": 35
        }
      },
      "execution_count": 57,
      "outputs": [
        {
          "output_type": "execute_result",
          "data": {
            "text/plain": [
              "'El intervalo de confianza es: [0.7132344648389465, 0.751740084982984]'"
            ],
            "application/vnd.google.colaboratory.intrinsic+json": {
              "type": "string"
            }
          },
          "metadata": {},
          "execution_count": 57
        }
      ]
    },
    {
      "cell_type": "code",
      "source": [
        "#OJOOOOOOOOOOOOOOO\n",
        "#la tarea la hicimos paso a paso p' es mejor generar 1 flujo de trabajo\n",
        "#PIPELINE= una serie de tareas q' se ejecutan de forma secuencial para lograr la validac. del modelo\n"
      ],
      "metadata": {
        "id": "OUYj6b3mPtom"
      },
      "execution_count": 58,
      "outputs": []
    },
    {
      "cell_type": "code",
      "source": [],
      "metadata": {
        "id": "E8pnpmqDPt2h"
      },
      "execution_count": 58,
      "outputs": []
    },
    {
      "cell_type": "markdown",
      "source": [
        "### Pipeline para validación"
      ],
      "metadata": {
        "id": "fHSNXznm6ia-"
      }
    },
    {
      "cell_type": "code",
      "source": [
        "#generamos muestras sintéticas para la clase minoritaria (morosos) respetando cierto patrón\n",
        "#los resultados de recall fueron bastante optimistas PERO hicimos validac. con datos ya balanceados\n",
        "#la idea es entrenar el modelo (con oversampling) p' al validar los datos, ellos serán desbalanceados\n",
        "#entonces usamos pipeline, que se importa como imbpipeline (por el desbalanceo) para diferenciar del pipeline normal\n",
        "\n",
        "from imblearn.pipeline import Pipeline as imbpipeline\n"
      ],
      "metadata": {
        "id": "DaoAbR84O44S"
      },
      "execution_count": 59,
      "outputs": []
    },
    {
      "cell_type": "code",
      "source": [
        "#para hacer esta secuencia de tareas vamos a instanciar de nuevo nuestro modelo\n",
        "#ya tenemos nuestro kodelo y vamos a crear nuestro pipeline\n",
        "#imbpipeline recibe los elementos en 1 lista[], que tiene tuplas dentro\n",
        "#tupla 1:  'oversample', algoritmo SMOTE()\n",
        "#tupla 2: 'arbol', modelo\n",
        "#cargar con play\n",
        "\n",
        "\n",
        "modelo = DecisionTreeClassifier(max_depth= 10)\n",
        "pipeline = imbpipeline([('oversample', SMOTE()), ('arbol', modelo)])\n"
      ],
      "metadata": {
        "id": "7UezUduWO41c"
      },
      "execution_count": 60,
      "outputs": []
    },
    {
      "cell_type": "code",
      "source": [
        "#ya tenemos pipeline\n",
        "#nuestra pipeline va a tomar la X, hará oversampling con X e y para entrenar el modelo\n",
        "#PERO mantendrá las proporciones del dataset original\n",
        "#cargamos con play\n",
        "\n",
        "skf = StratifiedKFold(n_splits= 5, shuffle= True, random_state= 5) #que la proporción de cada clase se mantenga\n",
        "cv_resultados = cross_validate(pipeline, X, y, cv= skf, scoring= 'recall')\n",
        "\n"
      ],
      "metadata": {
        "id": "b7Z-pe6wO4yN"
      },
      "execution_count": 61,
      "outputs": []
    },
    {
      "cell_type": "code",
      "source": [
        "#por último, vemos nuestro intervalo de confianza\n",
        "#ahora veremos cómo nuestro modelo generalizó a partir de usar este método de generar datos sintéticos\n",
        "#resultado entre 21% y 31%... interesante\n",
        "\n",
        "intervalo_confianza(cv_resultados)\n"
      ],
      "metadata": {
        "id": "KiJ_nTP8kzIs",
        "outputId": "588b6ba5-86ca-4271-cc97-190a5b3c9e90",
        "colab": {
          "base_uri": "https://localhost:8080/",
          "height": 35
        }
      },
      "execution_count": 62,
      "outputs": [
        {
          "output_type": "execute_result",
          "data": {
            "text/plain": [
              "'El intervalo de confianza es: [0.20639537242085604, 0.2725134728193518]'"
            ],
            "application/vnd.google.colaboratory.intrinsic+json": {
              "type": "string"
            }
          },
          "metadata": {},
          "execution_count": 62
        }
      ]
    },
    {
      "cell_type": "code",
      "source": [],
      "metadata": {
        "id": "XSphksuDkzVv"
      },
      "execution_count": 62,
      "outputs": []
    },
    {
      "cell_type": "markdown",
      "source": [
        "### Undersampling"
      ],
      "metadata": {
        "id": "66PlvwjX6kFv"
      }
    },
    {
      "cell_type": "markdown",
      "source": [
        "https://imbalanced-learn.org/stable/references/generated/imblearn.under_sampling.NearMiss.html"
      ],
      "metadata": {
        "id": "Fh6VZN5Fx7wl"
      }
    },
    {
      "cell_type": "code",
      "source": [
        "#en pocas palabras, tomar la clase que tiene \"mayoría\" y reducirla\n",
        "#para tener los datos más parecidos a la clase de \"minoría\"\n",
        "#NearMiss= algoritmo de reducc. de muestras, hecho de manera inteligente\n",
        "#cargamos con play\n",
        "\n",
        "from imblearn.under_sampling import NearMiss\n"
      ],
      "metadata": {
        "id": "lUn59uqAO63N"
      },
      "execution_count": 63,
      "outputs": []
    },
    {
      "cell_type": "code",
      "source": [
        "#primer paso, copiar los códigos ya usados\n",
        "#OJOOO NearMiss es con parámetros de versión\n",
        "#cargamos con play\n",
        "\n",
        "modelo = DecisionTreeClassifier(max_depth= 10)\n",
        "pipeline = imbpipeline([('undersample', NearMiss(version = 3)), ('arbol', modelo)])\n",
        "\n",
        "skf = StratifiedKFold(n_splits= 5, shuffle= True, random_state= 5)\n",
        "cv_resultados = cross_validate(pipeline, X, y, cv= skf, scoring= 'recall')\n",
        "\n"
      ],
      "metadata": {
        "id": "pOUKHwqRO6zb"
      },
      "execution_count": 64,
      "outputs": []
    },
    {
      "cell_type": "code",
      "source": [
        "#traemos nuestra función para intervalo de confianza\n",
        "#entonces, undersampling entrenó el modelo con los datos ya balanceados con la técnica NearMiss, versión 3\n",
        "#pero al validar usó datos total% desbalanceados, con 1 árbol de decisión de profundidad 10\n",
        "#el resuktado entre 61% y 70% llama la atención\n",
        "#POR LO TANTO, profe dice que es la mejor apuesta para entrenar el modelo y validarlo\n",
        "\n",
        "intervalo_confianza(cv_resultados)\n"
      ],
      "metadata": {
        "id": "ykn9H4kFO6so",
        "outputId": "232b0bfa-e65c-4899-816b-2b4aaf655a8c",
        "colab": {
          "base_uri": "https://localhost:8080/",
          "height": 35
        }
      },
      "execution_count": 65,
      "outputs": [
        {
          "output_type": "execute_result",
          "data": {
            "text/plain": [
              "'El intervalo de confianza es: [0.619772542843213, 0.7007376672744392]'"
            ],
            "application/vnd.google.colaboratory.intrinsic+json": {
              "type": "string"
            }
          },
          "metadata": {},
          "execution_count": 65
        }
      ]
    },
    {
      "cell_type": "code",
      "source": [],
      "metadata": {
        "id": "RGKwVsB3shwu"
      },
      "execution_count": 65,
      "outputs": []
    },
    {
      "cell_type": "code",
      "source": [],
      "metadata": {
        "id": "yYJ-z5J_5vnC"
      },
      "execution_count": 65,
      "outputs": []
    },
    {
      "cell_type": "markdown",
      "source": [
        "### Probando el modelo"
      ],
      "metadata": {
        "id": "EP-44U0eHt-a"
      }
    },
    {
      "cell_type": "code",
      "source": [
        "#ahora toca ver el desempeño de undersampling\n",
        "#Recall es la métrica a priorizar para que la empresa de financiamiento de autos no pierda tanto dinero y detecte sus morosos\n",
        "# 1° instanciamos nuestro undersampling\n",
        "# 2° creamos nuestra x_balanceada e y_balanceada... ellas son iguales al fit_resample sobre la variable undersample\n",
        "# 3° el fit_resample es sobre todo el conjunto de datos (X, y)\n",
        "#cargamos con play\n",
        "\n",
        "undersample = NearMiss(version = 3)\n",
        "x_balanceada, y_balanceada = undersample.fit_resample(X, y)\n"
      ],
      "metadata": {
        "id": "XWhZlwOTO8eN"
      },
      "execution_count": 67,
      "outputs": []
    },
    {
      "cell_type": "code",
      "source": [
        "# 1.- ahora creamos nuestro modelo\n",
        "# 2.- hacemos .fit sobre x_balanceada e y_balanceada\n",
        "# 3.- hacemos el y_previsto = modelo.predict de X de prueba (***hasta el momento sólo se había trabajado con X de entrenamiento y validación)\n",
        "# 4.- X de prueba contiene datos que el modelo no ha visto (veremos cómo se desempeña el modelo) con datos simulados de la vida real\n",
        "# 5.- después hay que hacer un reporte\n",
        "\n",
        "modelo = DecisionTreeClassifier(max_depth= 10)\n",
        "modelo.fit(x_balanceada, y_balanceada)\n",
        "\n",
        "y_previsto = modelo.predict(X_test)\n",
        "\n",
        "print(classification_report(y_test, y_previsto))\n",
        "ConfusionMatrixDisplay.from_predictions(y_test, y_previsto);\n",
        "\n"
      ],
      "metadata": {
        "id": "gZHVqM6hO8bt",
        "outputId": "be30bae6-f8de-4fe0-fb88-3c6edb409d3b",
        "colab": {
          "base_uri": "https://localhost:8080/",
          "height": 605
        }
      },
      "execution_count": 68,
      "outputs": [
        {
          "output_type": "stream",
          "name": "stdout",
          "text": [
            "              precision    recall  f1-score   support\n",
            "\n",
            "           0       0.94      0.48      0.64      7397\n",
            "           1       0.11      0.70      0.20       707\n",
            "\n",
            "    accuracy                           0.50      8104\n",
            "   macro avg       0.53      0.59      0.42      8104\n",
            "weighted avg       0.87      0.50      0.60      8104\n",
            "\n"
          ]
        },
        {
          "output_type": "display_data",
          "data": {
            "text/plain": [
              "<Figure size 640x480 with 2 Axes>"
            ],
            "image/png": "[encoded data removed]"
          },
          "metadata": {}
        }
      ]
    },
    {
      "cell_type": "code",
      "source": [
        "# 496 es el total de morosos previstos\n",
        "#el recall es de 70% que se parece al resultado del intervalo de confianza\n",
        "\n",
        "#print(f'El total de morosos previstos es: {y_previsto.sum()}') ---> resultado de la suma de 0 1 y 1 1 ***"
      ],
      "metadata": {
        "id": "QSrpOQpxO8WT",
        "outputId": "1518e368-b594-4c04-b512-d41b517b3682",
        "colab": {
          "base_uri": "https://localhost:8080/"
        }
      },
      "execution_count": 69,
      "outputs": [
        {
          "output_type": "stream",
          "name": "stdout",
          "text": [
            "El total de morosos previstos es: 4327\n"
          ]
        }
      ]
    },
    {
      "cell_type": "code",
      "source": [],
      "metadata": {
        "id": "6XEVHJK3Zk-x"
      },
      "execution_count": null,
      "outputs": []
    },
    {
      "cell_type": "code",
      "source": [],
      "metadata": {
        "id": "ncfOQn2OZlPa"
      },
      "execution_count": null,
      "outputs": []
    }
  ]
}